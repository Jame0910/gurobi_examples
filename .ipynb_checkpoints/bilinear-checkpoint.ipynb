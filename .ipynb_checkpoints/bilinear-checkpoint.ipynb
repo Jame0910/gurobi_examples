{
 "cells": [
  {
   "cell_type": "code",
   "execution_count": 1,
   "metadata": {},
   "outputs": [],
   "source": [
    "#!/ usr/bin/env python3 .7\n",
    "\n",
    "# Copyright 2020 , Gurobi Optimization , LLC\n",
    "\n",
    "# This example formulates and solves the following simple bilinear model :\n",
    "# maximize   x\n",
    "# subject to x + y + z <= 10\n",
    "#            x * y <= 2 ( bilinear inequality )\n",
    "#            x * z + y * z = 1 ( bilinear equality )\n",
    "#            x, y, z non - negative (x integral in second version )\n",
    "\n",
    "import gurobipy as gp\n",
    "from gurobipy import GRB"
   ]
  },
  {
   "cell_type": "code",
   "execution_count": 2,
   "metadata": {},
   "outputs": [
    {
     "name": "stdout",
     "output_type": "stream",
     "text": [
      "Using license file /Users/yj/gurobi.lic\n"
     ]
    }
   ],
   "source": [
    "# Create a new model\n",
    "m = gp.Model('bilinear')"
   ]
  },
  {
   "cell_type": "code",
   "execution_count": 3,
   "metadata": {},
   "outputs": [],
   "source": [
    "# Create variables\n",
    "x = m.addVar(name='x')\n",
    "y = m.addVar(name='y')\n",
    "z = m.addVar(name='z')"
   ]
  },
  {
   "cell_type": "code",
   "execution_count": 4,
   "metadata": {},
   "outputs": [],
   "source": [
    "# Set objective : maximize x\n",
    "m.setObjective(1.0*x, GRB.MAXIMIZE)"
   ]
  },
  {
   "cell_type": "code",
   "execution_count": 5,
   "metadata": {},
   "outputs": [
    {
     "data": {
      "text/plain": [
       "<gurobi.QConstr Not Yet Added>"
      ]
     },
     "execution_count": 5,
     "metadata": {},
     "output_type": "execute_result"
    }
   ],
   "source": [
    "# Add linear constraint : x + y + z <= 10\n",
    "m.addConstr(x+y+z<=10, 'c0')\n",
    "\n",
    "# Add bilinear inequality constraint : x * y <= 2\n",
    "m.addConstr(x*y<=2, 'bilinear0')\n",
    "\n",
    "# Add bilinear equality constraint : x * z + y * z == 1\n",
    "m.addConstr(x*y+y*z==1, 'bilinear1')"
   ]
  },
  {
   "cell_type": "code",
   "execution_count": 6,
   "metadata": {},
   "outputs": [
    {
     "name": "stdout",
     "output_type": "stream",
     "text": [
      "Gurobi Optimizer version 9.0.0 build v9.0.0rc2 (mac64)\n",
      "Optimize a model with 1 rows, 3 columns and 3 nonzeros\n",
      "Model fingerprint: 0x82fbdaaf\n",
      "Model has 2 quadratic constraints\n",
      "Coefficient statistics:\n",
      "  Matrix range     [1e+00, 1e+00]\n",
      "  QMatrix range    [1e+00, 1e+00]\n",
      "  Objective range  [1e+00, 1e+00]\n",
      "  Bounds range     [0e+00, 0e+00]\n",
      "  RHS range        [1e+01, 1e+01]\n",
      "  QRHS range       [1e+00, 2e+00]\n"
     ]
    },
    {
     "ename": "GurobiError",
     "evalue": "Q matrix is not positive semi-definite (PSD)",
     "output_type": "error",
     "traceback": [
      "\u001b[0;31m---------------------------------------------------------------------------\u001b[0m",
      "\u001b[0;31mGurobiError\u001b[0m                               Traceback (most recent call last)",
      "\u001b[0;32m<ipython-input-6-52b16b748dc5>\u001b[0m in \u001b[0;36m<module>\u001b[0;34m\u001b[0m\n\u001b[0;32m----> 1\u001b[0;31m \u001b[0mm\u001b[0m\u001b[0;34m.\u001b[0m\u001b[0moptimize\u001b[0m\u001b[0;34m(\u001b[0m\u001b[0;34m)\u001b[0m\u001b[0;34m\u001b[0m\u001b[0;34m\u001b[0m\u001b[0m\n\u001b[0m",
      "\u001b[0;32mmodel.pxi\u001b[0m in \u001b[0;36mgurobipy.Model.optimize\u001b[0;34m()\u001b[0m\n",
      "\u001b[0;31mGurobiError\u001b[0m: Q matrix is not positive semi-definite (PSD)"
     ]
    }
   ],
   "source": [
    "m.optimize()"
   ]
  },
  {
   "cell_type": "code",
   "execution_count": 10,
   "metadata": {
    "scrolled": false
   },
   "outputs": [
    {
     "name": "stdout",
     "output_type": "stream",
     "text": [
      "Gurobi Optimizer version 9.0.0 build v9.0.0rc2 (mac64)\n",
      "Optimize a model with 1 rows, 3 columns and 3 nonzeros\n",
      "Model fingerprint: 0x82fbdaaf\n",
      "Model has 2 quadratic constraints\n",
      "Coefficient statistics:\n",
      "  Matrix range     [1e+00, 1e+00]\n",
      "  QMatrix range    [1e+00, 1e+00]\n",
      "  Objective range  [1e+00, 1e+00]\n",
      "  Bounds range     [0e+00, 0e+00]\n",
      "  RHS range        [1e+01, 1e+01]\n",
      "  QRHS range       [1e+00, 2e+00]\n",
      "\n",
      "Optimize failed due to non - convexity\n"
     ]
    }
   ],
   "source": [
    "# First optimize () call will fail - need to set NonConvex to 2\n",
    "try:\n",
    "    m.optimize()\n",
    "except gp.GurobiError:\n",
    "    print('\\nOptimize failed due to non - convexity')"
   ]
  },
  {
   "cell_type": "code",
   "execution_count": 11,
   "metadata": {},
   "outputs": [
    {
     "name": "stdout",
     "output_type": "stream",
     "text": [
      "Changed value of parameter NonConvex to 2\n",
      "   Prev: -1  Min: -1  Max: 2  Default: -1\n",
      "Gurobi Optimizer version 9.0.0 build v9.0.0rc2 (mac64)\n",
      "Optimize a model with 1 rows, 3 columns and 3 nonzeros\n",
      "Model fingerprint: 0x82fbdaaf\n",
      "Model has 2 quadratic constraints\n",
      "Coefficient statistics:\n",
      "  Matrix range     [1e+00, 1e+00]\n",
      "  QMatrix range    [1e+00, 1e+00]\n",
      "  Objective range  [1e+00, 1e+00]\n",
      "  Bounds range     [0e+00, 0e+00]\n",
      "  RHS range        [1e+01, 1e+01]\n",
      "  QRHS range       [1e+00, 2e+00]\n",
      "\n",
      "Continuous model is non-convex -- solving as a MIP.\n",
      "\n",
      "Presolve time: 0.01s\n",
      "Presolved: 12 rows, 5 columns, 28 nonzeros\n",
      "Presolved model has 3 bilinear constraint(s)\n",
      "Variable types: 5 continuous, 0 integer (0 binary)\n",
      "\n",
      "Root relaxation: objective 9.899370e+00, 6 iterations, 0.01 seconds\n",
      "\n",
      "    Nodes    |    Current Node    |     Objective Bounds      |     Work\n",
      " Expl Unexpl |  Obj  Depth IntInf | Incumbent    BestBd   Gap | It/Node Time\n",
      "\n",
      "     0     0    9.89937    0    2          -    9.89937      -     -    0s\n",
      "     0     0    9.89905    0    1          -    9.89905      -     -    0s\n",
      "     0     2    9.89905    0    1          -    9.89905      -     -    0s\n",
      "*    6     4               2       9.8989795    9.89898  0.00%   1.2    0s\n",
      "\n",
      "Cutting planes:\n",
      "  RLT: 1\n",
      "\n",
      "Explored 7 nodes (15 simplex iterations) in 0.14 seconds\n",
      "Thread count was 4 (of 4 available processors)\n",
      "\n",
      "Solution count 1: 9.89898 \n",
      "\n",
      "Optimal solution found (tolerance 1.00e-04)\n",
      "Best objective 9.898979486704e+00, best bound 9.898979486704e+00, gap 0.0000%\n"
     ]
    }
   ],
   "source": [
    "# Solve bilinear model\n",
    "m.params.NonConvex = 2\n",
    "m.optimize()"
   ]
  },
  {
   "cell_type": "code",
   "execution_count": 12,
   "metadata": {},
   "outputs": [
    {
     "data": {
      "text/plain": [
       "<bound method Model.printAttr of <gurobi.Model MIP instance bilinear: 1 constrs, 3 vars, Parameter changes: NonConvex=2>>"
      ]
     },
     "execution_count": 12,
     "metadata": {},
     "output_type": "execute_result"
    }
   ],
   "source": [
    "m.printAttr('x')"
   ]
  }
 ],
 "metadata": {
  "kernelspec": {
   "display_name": "data",
   "language": "python",
   "name": "data"
  },
  "language_info": {
   "codemirror_mode": {
    "name": "ipython",
    "version": 3
   },
   "file_extension": ".py",
   "mimetype": "text/x-python",
   "name": "python",
   "nbconvert_exporter": "python",
   "pygments_lexer": "ipython3",
   "version": "3.7.5"
  }
 },
 "nbformat": 4,
 "nbformat_minor": 2
}
