{
 "cells": [
  {
   "cell_type": "code",
   "execution_count": 3,
   "metadata": {},
   "outputs": [],
   "source": [
    "# This example considers the following nonconvex nonlinear problem\n",
    "#\n",
    "#   maximize   2 x + y\n",
    "#   subject to exp(x) + 4 sqrt (y) <= 9\n",
    "#              x, y >= 0\n",
    "#\n",
    "#   We show you two approaches to solve this :\n",
    "#\n",
    "#   1) Use a piecewise - linear approach to handle general function\n",
    "#      constraints ( such as exp and sqrt ).\n",
    "#      a) Add two variables\n",
    "#         u = exp(x)\n",
    "#         v = sqrt (y)\n",
    "#      b) Compute points (x, u) of u = exp(x) for some step length (e.g., x\n",
    "#         = 0, 1e -3, 2e -3, ... , xmax ) and points (y, v) of v = sqrt (y) for\n",
    "#         some step length (e.g., y = 0, 1e -3, 2e -3, ... , ymax ). We need to\n",
    "#         compute xmax and ymax ( which is easy for this example , but this\n",
    "#         does not hold in general ).\n",
    "#      c) Use the points to add two general constraints of type\n",
    "#         piecewise - linear .\n",
    "#\n",
    "#   2) Use the Gurobis built-in general function constraints directly ( EXP\n",
    "#      and POW ). Here , we do not need to compute the points and the maximal\n",
    "#      possible values , which will be done internally by Gurobi . In this\n",
    "#      approach , we show how to \"zoom in\" on the optimal solution and\n",
    "#      tighten tolerances to improve the solution quality ."
   ]
  },
  {
   "cell_type": "code",
   "execution_count": 4,
   "metadata": {},
   "outputs": [],
   "source": [
    "import math\n",
    "import gurobipy as gp\n",
    "from gurobipy import GRB"
   ]
  },
  {
   "cell_type": "code",
   "execution_count": 17,
   "metadata": {},
   "outputs": [],
   "source": [
    "def printsol(m, x, y, u, v):\n",
    "    print('x = ' + str(x.x) + ', u = ' + str(u.x))\n",
    "    print('y = ' + str(y.x) + ', v = ' + str(v.x))\n",
    "    print('Obj = ' + str(m.objVal))\n",
    "    \n",
    "    # Calculate violstion of exp(x) + 4 sqrt(y) <= 9\n",
    "    vio =math.exp(x.x) + 4 * math.sqrt(y.x) - 9\n",
    "    if vio < 0:\n",
    "        vio = 0\n",
    "    print('Vio = ' + str(vio))"
   ]
  },
  {
   "cell_type": "code",
   "execution_count": 6,
   "metadata": {},
   "outputs": [
    {
     "name": "stdout",
     "output_type": "stream",
     "text": [
      "Using license file /Users/yj/gurobi.lic\n"
     ]
    }
   ],
   "source": [
    "m = gp.Model('gc_pwl')"
   ]
  },
  {
   "cell_type": "code",
   "execution_count": 7,
   "metadata": {},
   "outputs": [],
   "source": [
    "x = m.addVar(name='x')\n",
    "y = m.addVar(name='y')\n",
    "u = m.addVar(name='u')\n",
    "v = m.addVar(name='v')"
   ]
  },
  {
   "cell_type": "code",
   "execution_count": 8,
   "metadata": {},
   "outputs": [],
   "source": [
    "m.setObjective(2 * x + y, GRB.MAXIMIZE)"
   ]
  },
  {
   "cell_type": "code",
   "execution_count": 10,
   "metadata": {},
   "outputs": [],
   "source": [
    "lc = m.addConstr(u + 4 * v <= 9)"
   ]
  },
  {
   "cell_type": "code",
   "execution_count": 13,
   "metadata": {},
   "outputs": [],
   "source": [
    "# Approach 1) PWL constraint approach\n",
    "\n",
    "xpts = []\n",
    "ypts = []\n",
    "upts = []\n",
    "vpts = []\n",
    "\n",
    "intv = 1e-3\n",
    "\n",
    "xmax = math.log(9)\n",
    "t = 0.0\n",
    "while t < xmax + intv:\n",
    "    xpts.append(t)\n",
    "    upts.append(math.exp(t)) # 核心步骤：这里串联起了变量与变量之间的关系\n",
    "    t += intv\n",
    "\n",
    "ymax = (9.0/4)*(9.0/4)\n",
    "t = 0.0\n",
    "while t < ymax + intv:\n",
    "    ypts.append(t)\n",
    "    vpts.append(math.sqrt(t)) # 核心步骤：这里串联起了变量与变量之间的关系\n",
    "    t += intv"
   ]
  },
  {
   "cell_type": "code",
   "execution_count": 14,
   "metadata": {},
   "outputs": [],
   "source": [
    "gc1 = m.addGenConstrPWL(x, u, xpts, upts, 'gc1')\n",
    "gc2 = m.addGenConstrPWL(y, v, ypts, vpts, 'gc2')"
   ]
  },
  {
   "cell_type": "code",
   "execution_count": 15,
   "metadata": {
    "scrolled": false
   },
   "outputs": [
    {
     "name": "stdout",
     "output_type": "stream",
     "text": [
      "Gurobi Optimizer version 9.0.0 build v9.0.0rc2 (mac64)\n",
      "Optimize a model with 2 rows, 4 columns and 4 nonzeros\n",
      "Model fingerprint: 0x36a07eee\n",
      "Model has 2 general constraints\n",
      "Variable types: 4 continuous, 0 integer (0 binary)\n",
      "Coefficient statistics:\n",
      "  Matrix range     [1e+00, 4e+00]\n",
      "  Objective range  [1e+00, 2e+00]\n",
      "  Bounds range     [0e+00, 0e+00]\n",
      "  RHS range        [9e+00, 9e+00]\n",
      "Presolve added 3 rows and 7261 columns\n",
      "Presolve time: 0.03s\n",
      "Presolved: 5 rows, 7265 columns, 14526 nonzeros\n",
      "Presolved model has 2 SOS constraint(s)\n",
      "Variable types: 7265 continuous, 0 integer (0 binary)\n",
      "\n",
      "Root relaxation: objective 9.275728e+00, 50 iterations, 0.02 seconds\n",
      "\n",
      "    Nodes    |    Current Node    |     Objective Bounds      |     Work\n",
      " Expl Unexpl |  Obj  Depth IntInf | Incumbent    BestBd   Gap | It/Node Time\n",
      "\n",
      "     0     0    5.59665    0    1          -    5.59665      -     -    0s\n",
      "     0     0    5.59665    0    1          -    5.59665      -     -    0s\n",
      "     0     2    5.59665    0    1          -    5.59665      -     -    0s\n",
      "*   17    18               5       4.4696057    4.47386  0.10%  13.9    0s\n",
      "*   27    22               8       4.4715048    4.47376  0.05%   9.9    0s\n",
      "*   29    24               8       4.4735646    4.47376  0.00%   9.4    0s\n",
      "\n",
      "Explored 35 nodes (360 simplex iterations) in 0.41 seconds\n",
      "Thread count was 4 (of 4 available processors)\n",
      "\n",
      "Solution count 3: 4.47356 4.4715 4.46961 \n",
      "\n",
      "Optimal solution found (tolerance 1.00e-04)\n",
      "Best objective 4.473564627959e+00, best bound 4.473764297884e+00, gap 0.0045%\n"
     ]
    }
   ],
   "source": [
    "m.optimize()"
   ]
  },
  {
   "cell_type": "code",
   "execution_count": 18,
   "metadata": {
    "scrolled": true
   },
   "outputs": [
    {
     "name": "stdout",
     "output_type": "stream",
     "text": [
      "x = 0.8842823139793613, u = 2.421246318640817\n",
      "y = 2.704999999999813, v = 1.6446884203397958\n",
      "Obj = 4.4735646279585355\n",
      "Vio = 0\n"
     ]
    }
   ],
   "source": [
    "printsol(m, x, y, u, v)"
   ]
  },
  {
   "cell_type": "code",
   "execution_count": 19,
   "metadata": {},
   "outputs": [
    {
     "name": "stdout",
     "output_type": "stream",
     "text": [
      "Discarded solution information\n"
     ]
    }
   ],
   "source": [
    "# Approach 2) General function constraint approach with auto PWL\n",
    "#             translation by Gurobi\n",
    "\n",
    "# restore unsolved state and get rid of PWL constraints\n",
    "m.reset()\n",
    "m.remove(gc1)\n",
    "m.remove(gc2)\n",
    "m.update()"
   ]
  },
  {
   "cell_type": "code",
   "execution_count": 21,
   "metadata": {},
   "outputs": [
    {
     "name": "stdout",
     "output_type": "stream",
     "text": [
      "Changed value of parameter FuncPieces to 1\n",
      "   Prev: 0  Min: -2  Max: 200000000  Default: 0\n",
      "Parameter FuncPieceLength unchanged\n",
      "   Value: 0.001  Min: 1e-05  Max: 1000000.0  Default: 0.01\n"
     ]
    }
   ],
   "source": [
    "# u = exp(x)\n",
    "gcf1 = m.addGenConstrExp(x, u, name='gcf1')\n",
    "# v = sqrt(y)\n",
    "gcf2 = m.addGenConstrPow(y, v, 0.5, name='gcf2')\n",
    "\n",
    "# use the equal piece length approach with the length = 1e-3\n",
    "\n",
    "\n",
    "# FuncPieceLength attribute.\n",
    "m.params.FuncPieces = 1 # Uses a fixed width for each piece; \n",
    "                        # the actual width is provided in the\n",
    "                        # FuncPieceLength attribute.\n",
    "m.params.FuncPieceLength = 1e-3"
   ]
  },
  {
   "cell_type": "code",
   "execution_count": 22,
   "metadata": {},
   "outputs": [
    {
     "name": "stdout",
     "output_type": "stream",
     "text": [
      "Gurobi Optimizer version 9.0.0 build v9.0.0rc2 (mac64)\n",
      "Optimize a model with 2 rows, 4 columns and 4 nonzeros\n",
      "Model fingerprint: 0xfed95b74\n",
      "Model has 4 general constraints\n",
      "Variable types: 4 continuous, 0 integer (0 binary)\n",
      "Coefficient statistics:\n",
      "  Matrix range     [1e+00, 4e+00]\n",
      "  Objective range  [1e+00, 2e+00]\n",
      "  Bounds range     [0e+00, 0e+00]\n",
      "  RHS range        [9e+00, 9e+00]\n",
      "Presolve added 11 rows and 14526 columns\n",
      "Presolve time: 0.04s\n",
      "Presolved: 13 rows, 14530 columns, 43580 nonzeros\n",
      "Presolved model has 4 SOS constraint(s)\n",
      "Variable types: 14530 continuous, 0 integer (0 binary)\n",
      "\n",
      "Root relaxation: objective 5.599522e+00, 21 iterations, 0.01 seconds\n",
      "\n",
      "    Nodes    |    Current Node    |     Objective Bounds      |     Work\n",
      " Expl Unexpl |  Obj  Depth IntInf | Incumbent    BestBd   Gap | It/Node Time\n",
      "\n",
      "     0     0    5.59665    0    2          -    5.59665      -     -    0s\n",
      "     0     0    5.59665    0    2          -    5.59665      -     -    0s\n",
      "     0     2    5.59665    0    2          -    5.59665      -     -    0s\n",
      "*    3     4               2       4.1759147    4.80857  15.2%  45.7    0s\n",
      "*   25    21               7       4.4696057    4.47376  0.09%  30.5    0s\n",
      "*   39    34              11       4.4735949    4.47376  0.00%  24.8    0s\n",
      "\n",
      "Explored 51 nodes (1106 simplex iterations) in 0.71 seconds\n",
      "Thread count was 4 (of 4 available processors)\n",
      "\n",
      "Solution count 3: 4.47359 4.46961 4.17591 \n",
      "\n",
      "Optimal solution found (tolerance 1.00e-04)\n",
      "Best objective 4.473594875959e+00, best bound 4.473764297884e+00, gap 0.0038%\n"
     ]
    }
   ],
   "source": [
    "m.optimize()"
   ]
  },
  {
   "cell_type": "code",
   "execution_count": 23,
   "metadata": {
    "scrolled": true
   },
   "outputs": [
    {
     "name": "stdout",
     "output_type": "stream",
     "text": [
      "x = 0.8927974379795071, u = 2.4419515097858566\n",
      "y = 2.688, v = 1.6395121225535358\n",
      "Obj = 4.473594875959014\n",
      "Vio = 0\n"
     ]
    }
   ],
   "source": [
    "printsol(m, x, y, u, v)"
   ]
  },
  {
   "cell_type": "code",
   "execution_count": 24,
   "metadata": {},
   "outputs": [
    {
     "name": "stdout",
     "output_type": "stream",
     "text": [
      "Discarded solution information\n"
     ]
    }
   ],
   "source": [
    "# Zoom in , use optimal solution to reduce the ranges and use a smaller\n",
    "# pclen =1 -5 to solve it\n",
    "\n",
    "x.lb = max(x.lb, x.x-0.01)\n",
    "x.ub = min(x.ub, x.x+0.01)\n",
    "y.lb = max(y.lb, y.x-0.01)\n",
    "y.ub = min(y.ub, y.x+0.01)\n",
    "m.update()\n",
    "m.reset()"
   ]
  },
  {
   "cell_type": "code",
   "execution_count": 25,
   "metadata": {},
   "outputs": [
    {
     "name": "stdout",
     "output_type": "stream",
     "text": [
      "Changed value of parameter FuncPieceLength to 1e-05\n",
      "   Prev: 0.001  Min: 1e-05  Max: 1000000.0  Default: 0.01\n"
     ]
    }
   ],
   "source": [
    "m.params.FuncPieceLength = 1e-5"
   ]
  },
  {
   "cell_type": "code",
   "execution_count": 26,
   "metadata": {},
   "outputs": [
    {
     "name": "stdout",
     "output_type": "stream",
     "text": [
      "Gurobi Optimizer version 9.0.0 build v9.0.0rc2 (mac64)\n",
      "Optimize a model with 2 rows, 4 columns and 4 nonzeros\n",
      "Model fingerprint: 0xb9a25613\n",
      "Model has 4 general constraints\n",
      "Variable types: 4 continuous, 0 integer (0 binary)\n",
      "Coefficient statistics:\n",
      "  Matrix range     [1e+00, 4e+00]\n",
      "  Objective range  [1e+00, 2e+00]\n",
      "  Bounds range     [9e-01, 3e+00]\n",
      "  RHS range        [9e+00, 9e+00]\n",
      "Presolve added 11 rows and 8004 columns\n",
      "Presolve time: 0.08s\n",
      "Presolved: 13 rows, 8008 columns, 24014 nonzeros\n",
      "Presolved model has 4 SOS constraint(s)\n",
      "Variable types: 8008 continuous, 0 integer (0 binary)\n",
      "\n",
      "Root relaxation: objective 4.473604e+00, 30 iterations, 0.01 seconds\n",
      "\n",
      "    Nodes    |    Current Node    |     Objective Bounds      |     Work\n",
      " Expl Unexpl |  Obj  Depth IntInf | Incumbent    BestBd   Gap | It/Node Time\n",
      "\n",
      "     0     0    4.47360    0    4          -    4.47360      -     -    0s\n",
      "     0     0    4.47360    0    4          -    4.47360      -     -    0s\n",
      "     0     0    4.47360    0    1          -    4.47360      -     -    0s\n",
      "     0     0    4.47360    0    1          -    4.47360      -     -    0s\n",
      "     0     2    4.47360    0    1          -    4.47360      -     -    0s\n",
      "*   13    12               4       4.4691349    4.47360  0.10%  10.5    0s\n",
      "*   15    14               5       4.4734649    4.47360  0.00%  10.3    0s\n",
      "\n",
      "Explored 19 nodes (267 simplex iterations) in 0.37 seconds\n",
      "Thread count was 4 (of 4 available processors)\n",
      "\n",
      "Solution count 2: 4.47346 4.46913 \n",
      "\n",
      "Optimal solution found (tolerance 1.00e-04)\n",
      "Best objective 4.473464875959e+00, best bound 4.473595734690e+00, gap 0.0029%\n"
     ]
    }
   ],
   "source": [
    "m.optimize()"
   ]
  },
  {
   "cell_type": "code",
   "execution_count": 27,
   "metadata": {},
   "outputs": [
    {
     "name": "stdout",
     "output_type": "stream",
     "text": [
      "x = 0.8912274379795071, u = 2.4381204570476833\n",
      "y = 2.6910100000000003, v = 1.6404298217235629\n",
      "Obj = 4.4734648759590145\n",
      "Vio = 0\n"
     ]
    }
   ],
   "source": [
    "printsol(m, x, y, u, v)"
   ]
  }
 ],
 "metadata": {
  "kernelspec": {
   "display_name": "data",
   "language": "python",
   "name": "data"
  },
  "language_info": {
   "codemirror_mode": {
    "name": "ipython",
    "version": 3
   },
   "file_extension": ".py",
   "mimetype": "text/x-python",
   "name": "python",
   "nbconvert_exporter": "python",
   "pygments_lexer": "ipython3",
   "version": "3.7.5"
  }
 },
 "nbformat": 4,
 "nbformat_minor": 2
}
