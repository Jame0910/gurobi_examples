{
 "cells": [
  {
   "cell_type": "code",
   "execution_count": 1,
   "metadata": {},
   "outputs": [],
   "source": [
    "#!/ usr/bin/env python3 .7\n",
    "# Copyright 2020 , Gurobi Optimization , LLC\n",
    "# This example considers the following separable , convex problem :\n",
    "#\n",
    "# minimize   f(x) - y + g(z)\n",
    "# subject to x + 2 y + 3 z <= 4\n",
    "#            x + y >= 1\n",
    "#            x, y, z <= 1\n",
    "#\n",
    "# where f(u) = exp(-u) and g(u) = 2 u^2 - 4 u, for all real u. It\n",
    "# formulates and solves a simpler LP model by approximating f and\n",
    "# g with piecewise-linear functions . Then it transforms the model\n",
    "# into a MIP by negating the approximation for f, which corresponds\n",
    "# to a non-convex piecewise-linear function, and solves it again ."
   ]
  },
  {
   "cell_type": "code",
   "execution_count": 3,
   "metadata": {},
   "outputs": [],
   "source": [
    "import gurobipy as gp\n",
    "from math import exp"
   ]
  },
  {
   "cell_type": "code",
   "execution_count": 5,
   "metadata": {},
   "outputs": [],
   "source": [
    "def f(u):\n",
    "    return exp(-u)\n",
    "\n",
    "def g(u):\n",
    "    return 2 * u * u - 4 * u"
   ]
  },
  {
   "cell_type": "code",
   "execution_count": 6,
   "metadata": {
    "scrolled": true
   },
   "outputs": [
    {
     "name": "stdout",
     "output_type": "stream",
     "text": [
      "Using license file /Users/yj/gurobi.lic\n"
     ]
    }
   ],
   "source": [
    "m = gp.Model()"
   ]
  },
  {
   "cell_type": "code",
   "execution_count": 7,
   "metadata": {},
   "outputs": [],
   "source": [
    "lb = 0.0\n",
    "ub = 1.0"
   ]
  },
  {
   "cell_type": "code",
   "execution_count": 8,
   "metadata": {},
   "outputs": [],
   "source": [
    "x = m.addVar(lb, ub, name='x')\n",
    "y = m.addVar(lb, ub, name='y')\n",
    "z = m.addVar(lb, ub, name='z')"
   ]
  },
  {
   "cell_type": "markdown",
   "metadata": {},
   "source": [
    "Core part: Approximation of objective function"
   ]
  },
  {
   "cell_type": "code",
   "execution_count": 9,
   "metadata": {},
   "outputs": [],
   "source": [
    "m.setObjective(-y)"
   ]
  },
  {
   "cell_type": "code",
   "execution_count": 10,
   "metadata": {},
   "outputs": [],
   "source": [
    "npts = 101\n",
    "ptf = []\n",
    "ptf = []\n",
    "ptg = []\n",
    "\n",
    "for i in range(npts):\n",
    "    ptu.append(lb + (ub - lb) * i / (npts - 1))\n",
    "    ptf.append(f(ptu[i]))\n",
    "    ptg.append(g(ptu[i]))"
   ]
  },
  {
   "cell_type": "code",
   "execution_count": 12,
   "metadata": {},
   "outputs": [],
   "source": [
    "# Approximation\n",
    "m.setPWLObj(x, ptu, ptf)\n",
    "m.setPWLObj(z, ptu, ptf)"
   ]
  },
  {
   "cell_type": "code",
   "execution_count": 13,
   "metadata": {},
   "outputs": [
    {
     "data": {
      "text/plain": [
       "<gurobi.Constr *Awaiting Model Update*>"
      ]
     },
     "execution_count": 13,
     "metadata": {},
     "output_type": "execute_result"
    }
   ],
   "source": [
    "m.addConstr(x + 2 * y + 3 * z <= 4, 'c0')\n",
    "m.addConstr(x + y >= 1, 'c1')"
   ]
  },
  {
   "cell_type": "code",
   "execution_count": 14,
   "metadata": {},
   "outputs": [
    {
     "name": "stdout",
     "output_type": "stream",
     "text": [
      "Gurobi Optimizer version 9.0.0 build v9.0.0rc2 (mac64)\n",
      "Optimize a model with 2 rows, 3 columns and 5 nonzeros\n",
      "Model fingerprint: 0x91ac9429\n",
      "Model has 2 piecewise-linear objective terms\n",
      "Coefficient statistics:\n",
      "  Matrix range     [1e+00, 3e+00]\n",
      "  Objective range  [1e+00, 1e+00]\n",
      "  Bounds range     [1e+00, 1e+00]\n",
      "  RHS range        [1e+00, 4e+00]\n",
      "Presolve time: 0.07s\n",
      "Presolved: 2 rows, 3 columns, 5 nonzeros\n",
      "\n",
      "Iteration    Objective       Primal Inf.    Dual Inf.      Time\n",
      "       0   -2.6424112e-01   5.000000e-01   0.000000e+00      0s\n",
      "       1    8.4418704e-02   0.000000e+00   0.000000e+00      0s\n",
      "\n",
      "Solved in 1 iterations and 0.13 seconds\n",
      "Optimal objective  8.441870438e-02\n"
     ]
    }
   ],
   "source": [
    "m.optimize()"
   ]
  },
  {
   "cell_type": "code",
   "execution_count": 15,
   "metadata": {},
   "outputs": [
    {
     "name": "stdout",
     "output_type": "stream",
     "text": [
      "IsMIP: 0\n",
      "x 1\n",
      "y 1\n",
      "z 0.333333\n",
      "Obj: 0.0844187\n"
     ]
    }
   ],
   "source": [
    "print('IsMIP: %d' % m.IsMIP)\n",
    "for v in m.getVars():\n",
    "    print('%s %g' % (v.VarName, v.X))\n",
    "print('Obj: %g' % m.ObjVal)\n",
    "# print('')"
   ]
  },
  {
   "cell_type": "code",
   "execution_count": 16,
   "metadata": {},
   "outputs": [],
   "source": [
    "# Negate piecewise - linear objective function for x\n",
    "for i in range(npts):\n",
    "    ptf[i] = - ptf[i]"
   ]
  },
  {
   "cell_type": "code",
   "execution_count": 17,
   "metadata": {},
   "outputs": [],
   "source": [
    "m.setPWLObj(x, ptu, ptf)"
   ]
  },
  {
   "cell_type": "code",
   "execution_count": 18,
   "metadata": {},
   "outputs": [
    {
     "name": "stdout",
     "output_type": "stream",
     "text": [
      "Gurobi Optimizer version 9.0.0 build v9.0.0rc2 (mac64)\n",
      "Optimize a model with 2 rows, 3 columns and 5 nonzeros\n",
      "Model has 2 piecewise-linear objective terms\n",
      "Variable types: 3 continuous, 0 integer (0 binary)\n",
      "Coefficient statistics:\n",
      "  Matrix range     [1e+00, 3e+00]\n",
      "  Objective range  [1e+00, 1e+00]\n",
      "  Bounds range     [1e+00, 1e+00]\n",
      "  RHS range        [1e+00, 4e+00]\n",
      "Found heuristic solution: objective -0.3678794\n",
      "Presolve time: 0.02s\n",
      "Presolved: 202 rows, 302 columns, 603 nonzeros\n",
      "Variable types: 203 continuous, 99 integer (99 binary)\n",
      "\n",
      "Root relaxation: objective -1.486577e+00, 1 iterations, 0.00 seconds\n",
      "\n",
      "    Nodes    |    Current Node    |     Objective Bounds      |     Work\n",
      " Expl Unexpl |  Obj  Depth IntInf | Incumbent    BestBd   Gap | It/Node Time\n",
      "\n",
      "*    0     0               0      -1.4865772   -1.48658  0.00%     -    0s\n",
      "\n",
      "Explored 0 nodes (1 simplex iterations) in 0.13 seconds\n",
      "Thread count was 4 (of 4 available processors)\n",
      "\n",
      "Solution count 2: -1.48658 -0.367879 \n",
      "No other solutions better than -1.48658\n",
      "\n",
      "Optimal solution found (tolerance 1.00e-04)\n",
      "Best objective -1.486577169978e+00, best bound -1.486577169978e+00, gap 0.0000%\n"
     ]
    }
   ],
   "source": [
    "# Optimize model as a MIP\n",
    "m.optimize()"
   ]
  },
  {
   "cell_type": "code",
   "execution_count": 19,
   "metadata": {
    "scrolled": true
   },
   "outputs": [
    {
     "name": "stdout",
     "output_type": "stream",
     "text": [
      "IsMIP: 1\n",
      "x 0\n",
      "y 1\n",
      "z 0.666667\n",
      "Obj: -1.48658\n"
     ]
    }
   ],
   "source": [
    "print('IsMIP: %d' % m.IsMIP)\n",
    "for v in m.getVars():\n",
    "    print('%s %g' % (v.VarName, v.X))\n",
    "print('Obj: %g' % m.ObjVal)"
   ]
  }
 ],
 "metadata": {
  "kernelspec": {
   "display_name": "data",
   "language": "python",
   "name": "data"
  },
  "language_info": {
   "codemirror_mode": {
    "name": "ipython",
    "version": 3
   },
   "file_extension": ".py",
   "mimetype": "text/x-python",
   "name": "python",
   "nbconvert_exporter": "python",
   "pygments_lexer": "ipython3",
   "version": "3.7.5"
  }
 },
 "nbformat": 4,
 "nbformat_minor": 2
}
