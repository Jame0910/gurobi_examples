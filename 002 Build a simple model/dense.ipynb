{
 "cells": [
  {
   "cell_type": "code",
   "execution_count": 1,
   "metadata": {},
   "outputs": [],
   "source": [
    "#!/ usr/bin/env python3 .7\n",
    "# Copyright 2020 , Gurobi Optimization , LLC\n",
    "# This example formulates and solves the following simple QP model :\n",
    "#\n",
    "# minimize    x + y + x^2 + x*y + y^2 + y*z + z^2\n",
    "# subject to  x + 2 y + 3 z >= 4\n",
    "#             x +   y       >= 1\n",
    "#             x, y, z non-negative\n",
    "#\n",
    "# The example illustrates the use of dense matrices to store A and Q\n",
    "# (and dense vectors for the other relevant data ). We don ’t recommend\n",
    "# that you use dense matrices , but this example may be helpful if you\n",
    "# already have your data in this format ."
   ]
  },
  {
   "cell_type": "code",
   "execution_count": 2,
   "metadata": {},
   "outputs": [],
   "source": [
    "import sys\n",
    "import gurobipy as gp\n",
    "from gurobipy import GRB"
   ]
  },
  {
   "cell_type": "code",
   "execution_count": 10,
   "metadata": {},
   "outputs": [],
   "source": [
    "def dense_optimize(rows, cols, c, Q, A, sense, rhs, lb, ub, vtype, solution):\n",
    "    \n",
    "    model = gp.Model()\n",
    "    \n",
    "    # Variables\n",
    "    variables = []\n",
    "    for j in range(cols):\n",
    "        variables.append(model.addVar(lb=lb[j], ub=ub[j], vtype=vtype[j]))\n",
    "        \n",
    "    # Populate A matrix\n",
    "    for i in range(rows):\n",
    "        expr = gp.LinExpr()\n",
    "        for j in range(cols):\n",
    "            if A[i][j] != 0:\n",
    "                expr += A[i][j] * variables[j]\n",
    "        model.addConstr(expr, sense[i], rhs[i])\n",
    "    \n",
    "    # Populate objective\n",
    "    obj = gp.QuadExpr()\n",
    "    # Quadratic terms\n",
    "    for i in range(cols):\n",
    "        for j in range(cols):\n",
    "            if Q[i][j] != 0:\n",
    "                obj += Q[i][j] * variables[i] * variables[j]\n",
    "    # Linear terms\n",
    "    for j in range(cols):\n",
    "        if c[j] != 0:\n",
    "            obj += c[j] * variables[j]\n",
    "    model.setObjective(obj)\n",
    "    \n",
    "    # Solve\n",
    "    model.optimize()\n",
    "    \n",
    "    # Write to file\n",
    "    model.write('dense.lp')\n",
    "    \n",
    "    if model.status == GRB.OPTIMAL:\n",
    "        x = model.getAttr('x', variables)\n",
    "        for i in range(cols):\n",
    "            solution[i] = x[i]\n",
    "        return True\n",
    "    else:\n",
    "        return False"
   ]
  },
  {
   "cell_type": "code",
   "execution_count": 8,
   "metadata": {},
   "outputs": [],
   "source": [
    "# Put model data into dense matrices\n",
    "\n",
    "c = [1, 1, 0]\n",
    "Q = [[1, 1, 0], [0, 1, 1], [0, 0, 1]]\n",
    "A = [[1, 2, 3], [1, 1, 0]]\n",
    "sense = [GRB.GREATER_EQUAL, GRB.GREATER_EQUAL]\n",
    "rhs = [4, 1]\n",
    "lb = [0, 0, 0]\n",
    "ub = [GRB.INFINITY, GRB.INFINITY, GRB.INFINITY]\n",
    "vtype = [GRB.CONTINUOUS, GRB.CONTINUOUS, GRB.CONTINUOUS]\n",
    "sol = [0] * 3"
   ]
  },
  {
   "cell_type": "code",
   "execution_count": 11,
   "metadata": {
    "scrolled": true
   },
   "outputs": [
    {
     "name": "stdout",
     "output_type": "stream",
     "text": [
      "Gurobi Optimizer version 9.0.0 build v9.0.0rc2 (mac64)\n",
      "Optimize a model with 2 rows, 3 columns and 5 nonzeros\n",
      "Model fingerprint: 0xb6336beb\n",
      "Model has 5 quadratic objective terms\n",
      "Coefficient statistics:\n",
      "  Matrix range     [1e+00, 3e+00]\n",
      "  Objective range  [1e+00, 1e+00]\n",
      "  QObjective range [2e+00, 2e+00]\n",
      "  Bounds range     [0e+00, 0e+00]\n",
      "  RHS range        [1e+00, 4e+00]\n",
      "Presolve time: 0.10s\n",
      "Presolved: 2 rows, 3 columns, 5 nonzeros\n",
      "Presolved model has 5 quadratic objective terms\n",
      "Ordering time: 0.00s\n",
      "\n",
      "Barrier statistics:\n",
      " Free vars  : 2\n",
      " AA' NZ     : 6.000e+00\n",
      " Factor NZ  : 1.000e+01\n",
      " Factor Ops : 3.000e+01 (less than 1 second per iteration)\n",
      " Threads    : 1\n",
      "\n",
      "                  Objective                Residual\n",
      "Iter       Primal          Dual         Primal    Dual     Compl     Time\n",
      "   0   1.68862705e+05 -1.66862803e+05  1.50e+03 4.63e-07  9.99e+05     0s\n",
      "   1   3.32226526e+05 -3.31124005e+05  1.50e-03 4.55e-13  1.33e+05     0s\n",
      "   2   4.88052576e+04 -4.83822339e+04  1.50e-09 5.68e-14  1.94e+04     0s\n",
      "   3   7.20061857e+03 -7.03783959e+03  1.42e-14 7.11e-15  2.85e+03     0s\n",
      "   4   1.07437613e+03 -1.01125049e+03  1.42e-14 1.42e-14  4.17e+02     0s\n",
      "   5   1.65062979e+02 -1.40052218e+02  3.55e-15 1.78e-15  6.10e+01     0s\n",
      "   6   2.73860883e+01 -1.68291419e+01  2.66e-15 4.44e-16  8.84e+00     0s\n",
      "   7   5.67667771e+00 -1.96124352e-01  4.44e-16 3.33e-16  1.17e+00     0s\n",
      "   8   2.86519627e+00  2.67284732e+00  2.22e-16 7.77e-16  3.85e-02     0s\n",
      "   9   2.85719105e+00  2.85649015e+00  1.11e-16 2.22e-16  1.40e-04     0s\n",
      "  10   2.85714291e+00  2.85714220e+00  2.22e-16 1.11e-16  1.40e-07     0s\n",
      "  11   2.85714286e+00  2.85714286e+00  4.44e-16 2.22e-16  1.40e-10     0s\n",
      "\n",
      "Barrier solved model in 11 iterations and 0.20 seconds\n",
      "Optimal objective 2.85714286e+00\n",
      "\n"
     ]
    }
   ],
   "source": [
    "# Optimize\n",
    "\n",
    "success = dense_optimize(2, 3, c, Q, A, sense, rhs, lb, ub, vtype, sol)"
   ]
  },
  {
   "cell_type": "code",
   "execution_count": 12,
   "metadata": {
    "scrolled": true
   },
   "outputs": [
    {
     "name": "stdout",
     "output_type": "stream",
     "text": [
      "x: 0.571429, y: 0.428571, z: 0.857143\n"
     ]
    }
   ],
   "source": [
    "if success: \n",
    "    print('x: %g, y: %g, z: %g' % (sol[0], sol[1], sol[2]))"
   ]
  }
 ],
 "metadata": {
  "kernelspec": {
   "display_name": "data",
   "language": "python",
   "name": "data"
  },
  "language_info": {
   "codemirror_mode": {
    "name": "ipython",
    "version": 3
   },
   "file_extension": ".py",
   "mimetype": "text/x-python",
   "name": "python",
   "nbconvert_exporter": "python",
   "pygments_lexer": "ipython3",
   "version": "3.7.5"
  }
 },
 "nbformat": 4,
 "nbformat_minor": 2
}
