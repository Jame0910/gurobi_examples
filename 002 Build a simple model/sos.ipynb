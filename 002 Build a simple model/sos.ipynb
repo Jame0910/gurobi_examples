{
 "cells": [
  {
   "cell_type": "code",
   "execution_count": 1,
   "metadata": {},
   "outputs": [],
   "source": [
    "#!/ usr/bin/env python3 .7\n",
    "# Copyright 2020 , Gurobi Optimization , LLC\n",
    "# This example creates a very simple Special Ordered Set (SOS) model .\n",
    "# The model consists of 3 continuous variables , no linear constraints ,\n",
    "# and a pair of SOS constraints of type 1.\n",
    "\n",
    "import gurobipy as gp\n",
    "from gurobipy import GRB"
   ]
  },
  {
   "cell_type": "code",
   "execution_count": 4,
   "metadata": {},
   "outputs": [],
   "source": [
    "model = gp.Model('sos')"
   ]
  },
  {
   "cell_type": "code",
   "execution_count": 11,
   "metadata": {},
   "outputs": [
    {
     "name": "stdout",
     "output_type": "stream",
     "text": [
      "Gurobi Optimizer version 9.0.0 build v9.0.0rc2 (mac64)\n",
      "Optimize a model with 0 rows, 3 columns and 0 nonzeros\n",
      "Model fingerprint: 0x43dd1668\n",
      "Model has 2 SOS constraints\n",
      "Variable types: 3 continuous, 0 integer (0 binary)\n",
      "Coefficient statistics:\n",
      "  Matrix range     [0e+00, 0e+00]\n",
      "  Objective range  [1e+00, 2e+00]\n",
      "  Bounds range     [1e+00, 1e+00]\n",
      "  RHS range        [0e+00, 0e+00]\n",
      "Found heuristic solution: objective -0.0000000\n",
      "Presolve removed 0 rows and 3 columns\n",
      "Presolve time: 0.00s\n",
      "Presolve: All rows and columns removed\n",
      "\n",
      "Explored 0 nodes (0 simplex iterations) in 0.05 seconds\n",
      "Thread count was 1 (of 4 available processors)\n",
      "\n",
      "Solution count 2: 2 \n",
      "\n",
      "Optimal solution found (tolerance 1.00e-04)\n",
      "Best objective 2.000000000000e+00, best bound 2.000000000000e+00, gap 0.0000%\n",
      "x0 1\n",
      "x1 0\n",
      "x2 0\n",
      "Obj: 2\n"
     ]
    }
   ],
   "source": [
    "try:\n",
    "    # Create a new model\n",
    "    model = gp.Model('sos')\n",
    "\n",
    "    # Create variables\n",
    "    x0 = model.addVar(ub = 1.0, name = 'x0')\n",
    "    x1 = model.addVar(ub = 1.0, name = 'x1')\n",
    "    x2 = model.addVar(ub = 1.0, name = 'x2')\n",
    "\n",
    "    # Set objective\n",
    "    model.setObjective(2 * x0 + x1 + x2, GRB.MAXIMIZE)\n",
    "\n",
    "    # Add first SOS: x0 = 0 or x1 = 0\n",
    "    model.addSOS(GRB.SOS_TYPE1, [x0, x1], [1, 2])\n",
    "    \n",
    "    # Add second SOS: x0 = 0 or x2 = 0\n",
    "    model.addSOS(GRB.SOS_TYPE1, [x0, x2], [1, 2])\n",
    "    \n",
    "    model.optimize()\n",
    "    \n",
    "    for v in model.getVars():\n",
    "        print('%s %g' % (v.varName, v.x))\n",
    "    \n",
    "    print ('Obj: %g' % model.objVal)\n",
    "    \n",
    "except gp.GurobiError as e:\n",
    "    print('Error code ' + str(e.errno) + ':' + str(e))\n",
    "\n",
    "except AttributeError:\n",
    "    print('Encountered an attribute error')"
   ]
  },
  {
   "cell_type": "code",
   "execution_count": null,
   "metadata": {},
   "outputs": [],
   "source": []
  }
 ],
 "metadata": {
  "kernelspec": {
   "display_name": "data",
   "language": "python",
   "name": "data"
  },
  "language_info": {
   "codemirror_mode": {
    "name": "ipython",
    "version": 3
   },
   "file_extension": ".py",
   "mimetype": "text/x-python",
   "name": "python",
   "nbconvert_exporter": "python",
   "pygments_lexer": "ipython3",
   "version": "3.7.5"
  }
 },
 "nbformat": 4,
 "nbformat_minor": 2
}
