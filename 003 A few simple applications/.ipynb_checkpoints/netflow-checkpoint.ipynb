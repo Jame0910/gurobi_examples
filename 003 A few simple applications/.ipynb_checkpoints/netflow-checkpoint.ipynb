{
 "cells": [
  {
   "cell_type": "code",
   "execution_count": 1,
   "metadata": {},
   "outputs": [],
   "source": [
    "# Solve a multi - commodity flow problem . Two products (’ Pencils ’ and ’Pens ’)\n",
    "# are produced in 2 cities (’ Detroit ’ and ’Denver ’) and must be sent to\n",
    "# warehouses in 3 cities (’ Boston ’, ’New York ’, and ’Seattle ’) to\n",
    "# satisfy demand (’ inflow [h,i] ’).\n",
    "#\n",
    "# Flows on the transportation network must respect arc capacity constraints\n",
    "# (’ capacity [i,j] ’). The objective is to minimize the sum of the arc\n",
    "# transportation costs (’ cost [i,j] ’)."
   ]
  },
  {
   "cell_type": "code",
   "execution_count": 2,
   "metadata": {},
   "outputs": [],
   "source": [
    "import gurobipy as gp\n",
    "from gurobipy import GRB"
   ]
  },
  {
   "cell_type": "code",
   "execution_count": 3,
   "metadata": {},
   "outputs": [],
   "source": [
    "# Base data\n",
    "commodities = ['Pencils', 'Pens']\n",
    "nodes = ['Detroit', 'Denver', 'Boston', 'NewYork', 'Seattle']\n",
    "\n",
    "arcs, capacity = gp.multidict({\n",
    "    ('Detroit', 'Boston'): 100,\n",
    "    ('Detroit', 'NewYork'): 80,\n",
    "    ('Detroit', 'Seattle'): 120,\n",
    "    ('Denver', 'Boston'): 120,\n",
    "    ('Denver', 'NewYork'): 120,\n",
    "    ('Denver', 'Seattle'): 120 \n",
    "})\n",
    "\n",
    "# Cost for triplets commodity-source-destination\n",
    "cost = {\n",
    "    ('Pencils', 'Detroit', 'Boston'): 10,\n",
    "    ('Pencils', 'Detroit', 'NewYork'): 20,\n",
    "    ('Pencils', 'Detroit', 'Seattle'): 60,\n",
    "    ('Pencils', 'Denver', 'Boston'): 40,\n",
    "    ('Pencils', 'Denver', 'NewYork'): 40,\n",
    "    ('Pencils', 'Denver', 'Seattle'): 30,\n",
    "    ('Pens', 'Detroit', 'Boston'): 20,\n",
    "    ('Pens', 'Detroit', 'NewYork'): 20,\n",
    "    ('Pens', 'Detroit', 'Seattle'): 80,\n",
    "    ('Pens', 'Denver', 'Boston'): 60,\n",
    "    ('Pens', 'Denver', 'NewYork'): 70,\n",
    "    ('Pens', 'Denver', 'Seattle'): 30,\n",
    "}\n",
    "\n",
    "# Demand for pairs of commodity-city\n",
    "inflow = {\n",
    "    ('Pencils', 'Detroit'): 50,\n",
    "    ('Pencils', 'Denver'): 60,\n",
    "    ('Pencils', 'Boston'): -50,\n",
    "    ('Pencils', 'NewYork'): -50,\n",
    "    ('Pencils', 'Seattle'): -10,\n",
    "    ('Pens', 'Detroit'): 60,\n",
    "    ('Pens', 'Denver'): 40,\n",
    "    ('Pens', 'Boston'): -40,\n",
    "    ('Pens', 'NewYork'): -30,\n",
    "    ('Pens', 'Seattle'): -30,\n",
    "}"
   ]
  },
  {
   "cell_type": "code",
   "execution_count": 5,
   "metadata": {},
   "outputs": [],
   "source": [
    "# Create optimization model\n",
    "m = gp.Model(\"netflow\")"
   ]
  },
  {
   "cell_type": "markdown",
   "metadata": {},
   "source": [
    "**问题**：`addVars`中的`obj`参数是什么含义？此外，这个模型好像没有设置目标函数。  \n",
    "\n",
    "**答**：\n",
    "文档中对此参数的说明如下:\n",
    "> obj (optional): Objective coefficient for new variable.\n",
    "\n",
    "设置目标函数有二种方法：\n",
    "- 一种是用`setObjective()`函数，这是最直观的。\n",
    "- 第二种方法，直接在 `addvar` 或者 `addvars` 产生变量时，就通过 `obj =`  来指定在目标中的该变量的系数。二个方法用哪一个都可以。如果你不习惯在 `addvars` 里设置，那就忽略 `obj =` 的系数，然后在  `setObjective()` 函数中设置。"
   ]
  },
  {
   "cell_type": "code",
   "execution_count": 12,
   "metadata": {},
   "outputs": [
    {
     "data": {
      "text/plain": [
       "{('Pencils', 'Detroit', 'Boston'): <gurobi.Var *Awaiting Model Update*>,\n",
       " ('Pencils', 'Detroit', 'NewYork'): <gurobi.Var *Awaiting Model Update*>,\n",
       " ('Pencils', 'Detroit', 'Seattle'): <gurobi.Var *Awaiting Model Update*>,\n",
       " ('Pencils', 'Denver', 'Boston'): <gurobi.Var *Awaiting Model Update*>,\n",
       " ('Pencils', 'Denver', 'NewYork'): <gurobi.Var *Awaiting Model Update*>,\n",
       " ('Pencils', 'Denver', 'Seattle'): <gurobi.Var *Awaiting Model Update*>,\n",
       " ('Pens', 'Detroit', 'Boston'): <gurobi.Var *Awaiting Model Update*>,\n",
       " ('Pens', 'Detroit', 'NewYork'): <gurobi.Var *Awaiting Model Update*>,\n",
       " ('Pens', 'Detroit', 'Seattle'): <gurobi.Var *Awaiting Model Update*>,\n",
       " ('Pens', 'Denver', 'Boston'): <gurobi.Var *Awaiting Model Update*>,\n",
       " ('Pens', 'Denver', 'NewYork'): <gurobi.Var *Awaiting Model Update*>,\n",
       " ('Pens', 'Denver', 'Seattle'): <gurobi.Var *Awaiting Model Update*>}"
      ]
     },
     "execution_count": 12,
     "metadata": {},
     "output_type": "execute_result"
    }
   ],
   "source": [
    "# Create variables\n",
    "flow = m.addVars(commodities, arcs, obj=cost, name=\"flow\")\n",
    "flow"
   ]
  },
  {
   "cell_type": "code",
   "execution_count": 9,
   "metadata": {},
   "outputs": [],
   "source": [
    "# Arc-capacity constraints\n",
    "flow = m.addConstrs(\n",
    "    (flow.sum('*', i, j) <= capacity[i, j] for i, j in arcs), \"cap\"\n",
    ")"
   ]
  },
  {
   "cell_type": "code",
   "execution_count": 13,
   "metadata": {},
   "outputs": [],
   "source": [
    "# Equivalent version using Python looping\n",
    "for i, j in arcs:\n",
    "    m.addConstr(sum(flow[h, i, j] for h in commodities) <= capacity[i, j],\n",
    "                name=\"cap[%s, %s]\" % (i, j) \n",
    "               )"
   ]
  },
  {
   "cell_type": "markdown",
   "metadata": {},
   "source": [
    "注意由于`=`有特殊含义，即：被`lhs`、`sense`等关键词征用，因此若要用等式，这里必须用双等号`==`才不会报错"
   ]
  },
  {
   "cell_type": "code",
   "execution_count": 14,
   "metadata": {
    "scrolled": false
   },
   "outputs": [
    {
     "data": {
      "text/plain": [
       "{('Pencils', 'Detroit'): <gurobi.Constr *Awaiting Model Update*>,\n",
       " ('Pencils', 'Denver'): <gurobi.Constr *Awaiting Model Update*>,\n",
       " ('Pencils', 'Boston'): <gurobi.Constr *Awaiting Model Update*>,\n",
       " ('Pencils', 'NewYork'): <gurobi.Constr *Awaiting Model Update*>,\n",
       " ('Pencils', 'Seattle'): <gurobi.Constr *Awaiting Model Update*>,\n",
       " ('Pens', 'Detroit'): <gurobi.Constr *Awaiting Model Update*>,\n",
       " ('Pens', 'Denver'): <gurobi.Constr *Awaiting Model Update*>,\n",
       " ('Pens', 'Boston'): <gurobi.Constr *Awaiting Model Update*>,\n",
       " ('Pens', 'NewYork'): <gurobi.Constr *Awaiting Model Update*>,\n",
       " ('Pens', 'Seattle'): <gurobi.Constr *Awaiting Model Update*>}"
      ]
     },
     "execution_count": 14,
     "metadata": {},
     "output_type": "execute_result"
    }
   ],
   "source": [
    "# Flow conservation constraints\n",
    "m.addConstrs(\n",
    "    (flow.sum(h, '*', j) + inflow[h, j] == flow.sum(h, j, '*')\n",
    "    for h in commodities for j in nodes), \"node\"\n",
    ")"
   ]
  },
  {
   "cell_type": "code",
   "execution_count": 15,
   "metadata": {},
   "outputs": [
    {
     "data": {
      "text/plain": [
       "{('Pencils', 'Detroit'): <gurobi.Constr *Awaiting Model Update*>,\n",
       " ('Pencils', 'Denver'): <gurobi.Constr *Awaiting Model Update*>,\n",
       " ('Pencils', 'Boston'): <gurobi.Constr *Awaiting Model Update*>,\n",
       " ('Pencils', 'NewYork'): <gurobi.Constr *Awaiting Model Update*>,\n",
       " ('Pencils', 'Seattle'): <gurobi.Constr *Awaiting Model Update*>,\n",
       " ('Pens', 'Detroit'): <gurobi.Constr *Awaiting Model Update*>,\n",
       " ('Pens', 'Denver'): <gurobi.Constr *Awaiting Model Update*>,\n",
       " ('Pens', 'Boston'): <gurobi.Constr *Awaiting Model Update*>,\n",
       " ('Pens', 'NewYork'): <gurobi.Constr *Awaiting Model Update*>,\n",
       " ('Pens', 'Seattle'): <gurobi.Constr *Awaiting Model Update*>}"
      ]
     },
     "execution_count": 15,
     "metadata": {},
     "output_type": "execute_result"
    }
   ],
   "source": [
    "# Alternative version:\n",
    "m.addConstrs(\n",
    "    (gp.quicksum(flow[h, i, j] for i, j in arcs.select('*', j)) + \n",
    "     inflow[h, j] == \n",
    "     gp.quicksum(flow[h, j, k] for j, k in arcs.select(j, '*'))\n",
    "     for h in commodities for j in nodes), \"node\"\n",
    ")"
   ]
  },
  {
   "cell_type": "code",
   "execution_count": 16,
   "metadata": {
    "scrolled": false
   },
   "outputs": [
    {
     "name": "stdout",
     "output_type": "stream",
     "text": [
      "Gurobi Optimizer version 9.0.0 build v9.0.0rc2 (mac64)\n",
      "Optimize a model with 32 rows, 24 columns and 72 nonzeros\n",
      "Model fingerprint: 0x830ca4fe\n",
      "Coefficient statistics:\n",
      "  Matrix range     [1e+00, 1e+00]\n",
      "  Objective range  [1e+01, 8e+01]\n",
      "  Bounds range     [0e+00, 0e+00]\n",
      "  RHS range        [1e+01, 1e+02]\n",
      "Presolve removed 32 rows and 24 columns\n",
      "Presolve time: 0.08s\n",
      "Presolve: All rows and columns removed\n",
      "Iteration    Objective       Primal Inf.    Dual Inf.      Time\n",
      "       0    5.5000000e+03   0.000000e+00   2.000000e+01      0s\n",
      "Extra one simplex iteration after uncrush\n",
      "       1    5.5000000e+03   0.000000e+00   0.000000e+00      0s\n",
      "\n",
      "Solved in 1 iterations and 0.10 seconds\n",
      "Optimal objective  5.500000000e+03\n"
     ]
    }
   ],
   "source": [
    "m.optimize()"
   ]
  },
  {
   "cell_type": "code",
   "execution_count": 17,
   "metadata": {},
   "outputs": [
    {
     "name": "stdout",
     "output_type": "stream",
     "text": [
      "\n",
      "Optimal flows for Pencils\n",
      "Detroit -> Boston: 50\n",
      "Denver -> NewYork: 50\n",
      "Denver -> Seattle: 10\n",
      "\n",
      "Optimal flows for Pens\n",
      "Detroit -> Boston: 30\n",
      "Detroit -> NewYork: 30\n",
      "Denver -> Boston: 10\n",
      "Denver -> Seattle: 30\n"
     ]
    }
   ],
   "source": [
    "if m.status == GRB.OPTIMAL:\n",
    "    solution = m.getAttr('x', flow)\n",
    "    for h in commodities:\n",
    "        print('\\nOptimal flows for %s' % h)\n",
    "        for i, j in arcs:\n",
    "            if solution[h, i, j] > 0:\n",
    "                print('%s -> %s: %g' % (i, j, solution[h, i,j ]))"
   ]
  }
 ],
 "metadata": {
  "kernelspec": {
   "display_name": "data",
   "language": "python",
   "name": "data"
  },
  "language_info": {
   "codemirror_mode": {
    "name": "ipython",
    "version": 3
   },
   "file_extension": ".py",
   "mimetype": "text/x-python",
   "name": "python",
   "nbconvert_exporter": "python",
   "pygments_lexer": "ipython3",
   "version": "3.7.5"
  }
 },
 "nbformat": 4,
 "nbformat_minor": 2
}
