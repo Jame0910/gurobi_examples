{
 "cells": [
  {
   "cell_type": "markdown",
   "metadata": {},
   "source": [
    "# portfolio\n",
    "\n",
    "A Python-only example that solves a financial portfolio optimization model, where the historical return data is stored using the pandas package and the result is plotted using the matplotlib package. It demonstrates the use of pandas, NumPy, and Matplotlib in conjunction with Gurobi."
   ]
  },
  {
   "cell_type": "code",
   "execution_count": 1,
   "metadata": {},
   "outputs": [],
   "source": [
    "#!/usr/bin/env python3.7\n",
    "\n",
    "# Copyright 2020, Gurobi Optimization, LLC\n",
    "\n",
    "# Portfolio selection: given a sum of money to invest, one must decide how to\n",
    "# spend it amongst a portfolio of financial securities.  Our approach is due\n",
    "# to Markowitz (1959) and looks to minimize the risk associated with the\n",
    "# investment while realizing a target expected return.  By varying the target,\n",
    "# one can compute an 'efficient frontier', which defines the optimal portfolio\n",
    "# for a given expected return.\n",
    "#\n",
    "# Note that this example reads historical return data from a comma-separated\n",
    "# file (../data/portfolio.csv).  As a result, it must be run from the Gurobi\n",
    "# examples/python directory.\n",
    "#\n",
    "# This example requires the pandas (>= 0.20.3), NumPy, and Matplotlib\n",
    "# Python packages, which are part of the SciPy ecosystem for\n",
    "# mathematics, science, and engineering (http://scipy.org).  These\n",
    "# packages aren't included in all Python distributions, but are\n",
    "# included by default with Anaconda Python.\n",
    "\n",
    "import gurobipy as gp\n",
    "from gurobipy import GRB\n",
    "from math import sqrt\n",
    "import pandas as pd\n",
    "import numpy as np\n",
    "import matplotlib\n",
    "matplotlib.use('Agg')\n",
    "import matplotlib.pyplot as plt"
   ]
  },
  {
   "cell_type": "code",
   "execution_count": null,
   "metadata": {},
   "outputs": [],
   "source": [
    "# Import (normalized) historical return data using pandas\n",
    "data = pd.read_csv('../data/portfolio.csv', index_col=0)\n",
    "stocks = data.columns"
   ]
  },
  {
   "cell_type": "code",
   "execution_count": null,
   "metadata": {},
   "outputs": [],
   "source": [
    "# Calculate basic summary statistics for individual stocks\n",
    "stock_volatility = data.std()\n",
    "stock_return = data.mean()"
   ]
  },
  {
   "cell_type": "code",
   "execution_count": null,
   "metadata": {},
   "outputs": [],
   "source": [
    "# Create an empty model\n",
    "m = gp.Model('portfolio')"
   ]
  },
  {
   "cell_type": "code",
   "execution_count": null,
   "metadata": {},
   "outputs": [],
   "source": [
    "# Add a variable for each stock\n",
    "vars = pd.Series(m.addVars(stocks), index=stocks)"
   ]
  },
  {
   "cell_type": "code",
   "execution_count": null,
   "metadata": {},
   "outputs": [],
   "source": [
    "# Objective is to minimize risk (squared).  This is modeled using the\n",
    "# covariance matrix, which measures the historical correlation between stocks.\n",
    "sigma = data.cov()\n",
    "portfolio_risk = sigma.dot(vars).dot(vars)\n",
    "m.setObjective(portfolio_risk, GRB.MINIMIZE)"
   ]
  },
  {
   "cell_type": "code",
   "execution_count": null,
   "metadata": {},
   "outputs": [],
   "source": [
    "# Fix budget with a constraint\n",
    "m.addConstr(vars.sum() == 1, 'budget')"
   ]
  },
  {
   "cell_type": "code",
   "execution_count": null,
   "metadata": {},
   "outputs": [],
   "source": [
    "# Optimize model to find the minimum risk portfolio\n",
    "m.setParam('OutputFlag', 0) # Enables or disables solver output\n",
    "m.optimize()"
   ]
  },
  {
   "cell_type": "code",
   "execution_count": null,
   "metadata": {},
   "outputs": [],
   "source": [
    "# Create an expression representing the expected return for the portfolio\n",
    "portfolio_return = stock_return.dot(vars)"
   ]
  },
  {
   "cell_type": "code",
   "execution_count": null,
   "metadata": {},
   "outputs": [],
   "source": [
    "# Display minimum risk portfolio\n",
    "print('Minimum Risk Portfolio:\\n')\n",
    "for v in vars:\n",
    "    if v.x > 0:\n",
    "        print('\\t%s\\t: %g' % (v.varname, v.x))\n",
    "minrisk_volatility = sqrt(portfolio_risk.getValue())\n",
    "print('\\nVolatility      = %g' % minrisk_volatility)\n",
    "minrisk_return = portfolio_return.getValue()\n",
    "print('Expected Return = %g' % minrisk_return)"
   ]
  },
  {
   "cell_type": "code",
   "execution_count": null,
   "metadata": {},
   "outputs": [],
   "source": [
    "# Add (redundant) target return constraint\n",
    "target = m.addConstr(portfolio_return == minrisk_return, 'target')"
   ]
  },
  {
   "cell_type": "code",
   "execution_count": null,
   "metadata": {},
   "outputs": [],
   "source": [
    "# Solve for efficient frontier by varying target return\n",
    "frontier = pd.Series()\n",
    "for r in np.linspace(stock_return.min(), stock_return.max(), 100):\n",
    "    target.rhs = r\n",
    "    m.optimize()\n",
    "    frontier.loc[sqrt(portfolio_risk.getValue())] = r"
   ]
  },
  {
   "cell_type": "code",
   "execution_count": null,
   "metadata": {},
   "outputs": [],
   "source": [
    "# Plot volatility versus expected return for individual stocks\n",
    "ax = plt.gca()\n",
    "ax.scatter(x=stock_volatility, y=stock_return,\n",
    "           color='Blue', label='Individual Stocks')\n",
    "for i, stock in enumerate(stocks):\n",
    "    ax.annotate(stock, (stock_volatility[i], stock_return[i]))\n",
    "    \n",
    "\n",
    "\n"
   ]
  },
  {
   "cell_type": "code",
   "execution_count": null,
   "metadata": {},
   "outputs": [],
   "source": [
    "# Plot volatility versus expected return for minimum risk portfolio\n",
    "ax.scatter(x=minrisk_volatility, y=minrisk_return, color='DarkGreen')\n",
    "ax.annotate('Minimum\\nRisk\\nPortfolio', (minrisk_volatility, minrisk_return),\n",
    "            horizontalalignment='right')"
   ]
  },
  {
   "cell_type": "code",
   "execution_count": null,
   "metadata": {},
   "outputs": [],
   "source": [
    "# Plot efficient frontier\n",
    "frontier.plot(color='DarkGreen', label='Efficient Frontier', ax=ax)\n",
    "\n",
    "# Format and display the final plot\n",
    "ax.axis([0.005, 0.06, -0.02, 0.025])\n",
    "ax.set_xlabel('Volatility (standard deviation)')\n",
    "ax.set_ylabel('Expected Return')\n",
    "ax.legend()\n",
    "ax.grid()\n",
    "plt.savefig('portfolio.png')\n",
    "print(\"Plotted efficient frontier to 'portfolio.png'\")"
   ]
  }
 ],
 "metadata": {
  "kernelspec": {
   "display_name": "data",
   "language": "python",
   "name": "data"
  },
  "language_info": {
   "codemirror_mode": {
    "name": "ipython",
    "version": 3
   },
   "file_extension": ".py",
   "mimetype": "text/x-python",
   "name": "python",
   "nbconvert_exporter": "python",
   "pygments_lexer": "ipython3",
   "version": "3.7.5"
  }
 },
 "nbformat": 4,
 "nbformat_minor": 2
}
