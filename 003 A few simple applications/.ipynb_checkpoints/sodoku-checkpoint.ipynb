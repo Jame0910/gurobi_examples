{
 "cells": [
  {
   "cell_type": "code",
   "execution_count": 1,
   "metadata": {},
   "outputs": [],
   "source": [
    "#!/usr/bin/env python3.7\n",
    "\n",
    "# Copyright 2020, Gurobi Optimization, LLC\n",
    "\n",
    "# Sudoku example.\n",
    "\n",
    "# The Sudoku board is a 9x9 grid, which is further divided into a 3x3 grid\n",
    "# of 3x3 grids.  Each cell in the grid must take a value from 0 to 9.\n",
    "# No two grid cells in the same row, column, or 3x3 subgrid may take the\n",
    "# same value.\n",
    "#\n",
    "# In the MIP formulation, binary variables x[i,j,v] indicate whether\n",
    "# cell <i,j> takes value 'v'.  The constraints are as follows:\n",
    "#   1. Each cell must take exactly one value (sum_v x[i,j,v] = 1)\n",
    "#   2. Each value is used exactly once per row (sum_i x[i,j,v] = 1)\n",
    "#   3. Each value is used exactly once per column (sum_j x[i,j,v] = 1)\n",
    "#   4. Each value is used exactly once per 3x3 subgrid (sum_grid x[i,j,v] = 1)\n",
    "#\n",
    "# Input datasets for this example can be found in examples/data/sudoku*."
   ]
  },
  {
   "cell_type": "code",
   "execution_count": 2,
   "metadata": {},
   "outputs": [],
   "source": [
    "import sys\n",
    "import math\n",
    "import gurobipy as gp\n",
    "from gurobipy import GRB"
   ]
  },
  {
   "cell_type": "code",
   "execution_count": 3,
   "metadata": {},
   "outputs": [],
   "source": [
    "if len(sys.argv) < 2:\n",
    "    print('Usage: sudoku.py filename')\n",
    "    quit()"
   ]
  },
  {
   "cell_type": "code",
   "execution_count": null,
   "metadata": {
    "scrolled": true
   },
   "outputs": [],
   "source": [
    "f = open(sys.argv[1])\n",
    "\n",
    "grid = f.read().split()\n",
    "\n",
    "n = len(grid[0])\n",
    "s = int(math.sqrt(n))"
   ]
  },
  {
   "cell_type": "code",
   "execution_count": null,
   "metadata": {},
   "outputs": [],
   "source": [
    "# Create our 3-D array of model variables\n",
    "\n",
    "model = gp.Model('sudoku')\n",
    "\n",
    "vars = model.addVars(n, n, n, vtype=GRB.BINARY, name='G')"
   ]
  },
  {
   "cell_type": "code",
   "execution_count": null,
   "metadata": {},
   "outputs": [],
   "source": [
    "# Fix variables associated with cells whose values are pre-specified\n",
    "\n",
    "for i in range(n):\n",
    "    for j in range(n):\n",
    "        if grid[i][j] != '.':\n",
    "            v = int(grid[i][j]) - 1\n",
    "            vars[i, j, v].LB = 1"
   ]
  },
  {
   "cell_type": "code",
   "execution_count": null,
   "metadata": {},
   "outputs": [],
   "source": [
    "# Each cell must take one value\n",
    "\n",
    "model.addConstrs((vars.sum(i, j, '*') == 1\n",
    "                 for i in range(n)\n",
    "                 for j in range(n)), name='V')\n",
    "\n",
    "# Each value appears once per row\n",
    "\n",
    "model.addConstrs((vars.sum(i, '*', v) == 1\n",
    "                 for i in range(n)\n",
    "                 for v in range(n)), name='R')\n",
    "\n",
    "# Each value appears once per column\n",
    "\n",
    "model.addConstrs((vars.sum('*', j, v) == 1\n",
    "                 for j in range(n)\n",
    "                 for v in range(n)), name='C')"
   ]
  },
  {
   "cell_type": "code",
   "execution_count": null,
   "metadata": {},
   "outputs": [],
   "source": [
    "# Each value appears once per subgrid\n",
    "\n",
    "model.addConstrs((\n",
    "    gp.quicksum(vars[i, j, v] for i in range(i0*s, (i0+1)*s)\n",
    "                for j in range(j0*s, (j0+1)*s)) == 1\n",
    "    for v in range(n)\n",
    "    for i0 in range(s)\n",
    "    for j0 in range(s)), name='Sub')"
   ]
  },
  {
   "cell_type": "code",
   "execution_count": null,
   "metadata": {},
   "outputs": [],
   "source": [
    "model.optimize()\n",
    "\n",
    "model.write('sudoku.lp')\n",
    "\n",
    "print('')\n",
    "print('Solution:')\n",
    "print('')"
   ]
  },
  {
   "cell_type": "code",
   "execution_count": null,
   "metadata": {},
   "outputs": [],
   "source": [
    "# Retrieve optimization result\n",
    "\n",
    "solution = model.getAttr('X', vars)\n",
    "\n",
    "for i in range(n):\n",
    "    sol = ''\n",
    "    for j in range(n):\n",
    "        for v in range(n):\n",
    "            if solution[i, j, v] > 0.5:\n",
    "                sol += str(v+1)\n",
    "    print(sol)"
   ]
  }
 ],
 "metadata": {
  "kernelspec": {
   "display_name": "data",
   "language": "python",
   "name": "data"
  },
  "language_info": {
   "codemirror_mode": {
    "name": "ipython",
    "version": 3
   },
   "file_extension": ".py",
   "mimetype": "text/x-python",
   "name": "python",
   "nbconvert_exporter": "python",
   "pygments_lexer": "ipython3",
   "version": "3.7.5"
  }
 },
 "nbformat": 4,
 "nbformat_minor": 2
}
