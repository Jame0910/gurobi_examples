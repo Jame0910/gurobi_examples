{
 "cells": [
  {
   "cell_type": "markdown",
   "metadata": {},
   "source": [
    "# Workforce\n",
    "\n",
    "An enhancement of workforce1. This example solves the same workforce scheduling model, but if the model is infeasible, it computes an IIS, removes one of the associated constraints from the model, and re-solves. This process is repeated **until the model becomes feasible**. Demonstrates constraint removal."
   ]
  },
  {
   "cell_type": "code",
   "execution_count": 11,
   "metadata": {},
   "outputs": [],
   "source": [
    "import gurobipy as gp\n",
    "from gurobipy import GRB\n",
    "import sys"
   ]
  },
  {
   "cell_type": "code",
   "execution_count": 12,
   "metadata": {},
   "outputs": [],
   "source": [
    "# Number of workers required for each shift\n",
    "shifts, shiftRequirements = gp.multidict({\n",
    "    \"Mon1\":  3,\n",
    "    \"Tue2\":  2,\n",
    "    \"Wed3\":  4,\n",
    "    \"Thu4\":  4,\n",
    "    \"Fri5\":  5,\n",
    "    \"Sat6\":  6,\n",
    "    \"Sun7\":  5,\n",
    "    \"Mon8\":  2,\n",
    "    \"Tue9\":  2,\n",
    "    \"Wed10\": 3,\n",
    "    \"Thu11\": 4,\n",
    "    \"Fri12\": 6,\n",
    "    \"Sat13\": 7,\n",
    "    \"Sun14\": 5,\n",
    "    })\n",
    "\n",
    "# Amount each worker is paid to work one shift\n",
    "workers, pay = gp.multidict({\n",
    "    \"Amy\":   10,\n",
    "    \"Bob\":   12,\n",
    "    \"Cathy\": 10,\n",
    "    \"Dan\":   8,\n",
    "    \"Ed\":    8,\n",
    "    \"Fred\":  9,\n",
    "    \"Gu\":    11,\n",
    "    })\n",
    "\n",
    "# Worker availability\n",
    "availability = gp.tuplelist([\n",
    "    ('Amy', 'Tue2'), ('Amy', 'Wed3'), ('Amy', 'Fri5'), ('Amy', 'Sun7'),\n",
    "    ('Amy', 'Tue9'), ('Amy', 'Wed10'), ('Amy', 'Thu11'), ('Amy', 'Fri12'),\n",
    "    ('Amy', 'Sat13'), ('Amy', 'Sun14'), ('Bob', 'Mon1'), ('Bob', 'Tue2'),\n",
    "    ('Bob', 'Fri5'), ('Bob', 'Sat6'), ('Bob', 'Mon8'), ('Bob', 'Thu11'),\n",
    "    ('Bob', 'Sat13'), ('Cathy', 'Wed3'), ('Cathy', 'Thu4'), ('Cathy', 'Fri5'),\n",
    "    ('Cathy', 'Sun7'), ('Cathy', 'Mon8'), ('Cathy', 'Tue9'),\n",
    "    ('Cathy', 'Wed10'), ('Cathy', 'Thu11'), ('Cathy', 'Fri12'),\n",
    "    ('Cathy', 'Sat13'), ('Cathy', 'Sun14'), ('Dan', 'Tue2'), ('Dan', 'Wed3'),\n",
    "    ('Dan', 'Fri5'), ('Dan', 'Sat6'), ('Dan', 'Mon8'), ('Dan', 'Tue9'),\n",
    "    ('Dan', 'Wed10'), ('Dan', 'Thu11'), ('Dan', 'Fri12'), ('Dan', 'Sat13'),\n",
    "    ('Dan', 'Sun14'), ('Ed', 'Mon1'), ('Ed', 'Tue2'), ('Ed', 'Wed3'),\n",
    "    ('Ed', 'Thu4'), ('Ed', 'Fri5'), ('Ed', 'Sun7'), ('Ed', 'Mon8'),\n",
    "    ('Ed', 'Tue9'), ('Ed', 'Thu11'), ('Ed', 'Sat13'), ('Ed', 'Sun14'),\n",
    "    ('Fred', 'Mon1'), ('Fred', 'Tue2'), ('Fred', 'Wed3'), ('Fred', 'Sat6'),\n",
    "    ('Fred', 'Mon8'), ('Fred', 'Tue9'), ('Fred', 'Fri12'), ('Fred', 'Sat13'),\n",
    "    ('Fred', 'Sun14'), ('Gu', 'Mon1'), ('Gu', 'Tue2'), ('Gu', 'Wed3'),\n",
    "    ('Gu', 'Fri5'), ('Gu', 'Sat6'), ('Gu', 'Sun7'), ('Gu', 'Mon8'),\n",
    "    ('Gu', 'Tue9'), ('Gu', 'Wed10'), ('Gu', 'Thu11'), ('Gu', 'Fri12'),\n",
    "    ('Gu', 'Sat13'), ('Gu', 'Sun14')\n",
    "])"
   ]
  },
  {
   "cell_type": "code",
   "execution_count": 13,
   "metadata": {},
   "outputs": [],
   "source": [
    "# Model\n",
    "m = gp.Model(\"assignment\")"
   ]
  },
  {
   "cell_type": "code",
   "execution_count": 14,
   "metadata": {},
   "outputs": [],
   "source": [
    "# Assignment variables: x[w,s] == 1 if worker w is assigned to shift s.\n",
    "# Since an assignment model always produces integer solutions, we use\n",
    "# continuous variables and solve as an LP.\n",
    "x = m.addVars(availability, ub=1, name=\"x\")"
   ]
  },
  {
   "cell_type": "code",
   "execution_count": 15,
   "metadata": {},
   "outputs": [],
   "source": [
    "# The objective is to minimize the total pay costs\n",
    "m.setObjective(gp.quicksum(pay[w]*x[w, s] for w, s in availability), GRB.MINIMIZE)"
   ]
  },
  {
   "cell_type": "code",
   "execution_count": 16,
   "metadata": {},
   "outputs": [],
   "source": [
    "# Constraint: assign exactly shiftRequirements[s] workers to each shift s\n",
    "reqCts = m.addConstrs((x.sum('*', s) == shiftRequirements[s]\n",
    "                      for s in shifts), \"_\")"
   ]
  },
  {
   "cell_type": "code",
   "execution_count": 17,
   "metadata": {},
   "outputs": [
    {
     "name": "stdout",
     "output_type": "stream",
     "text": [
      "Gurobi Optimizer version 9.0.0 build v9.0.0rc2 (mac64)\n",
      "Optimize a model with 14 rows, 72 columns and 72 nonzeros\n",
      "Model fingerprint: 0x6a2d20c0\n",
      "Coefficient statistics:\n",
      "  Matrix range     [1e+00, 1e+00]\n",
      "  Objective range  [8e+00, 1e+01]\n",
      "  Bounds range     [1e+00, 1e+00]\n",
      "  RHS range        [2e+00, 7e+00]\n",
      "Presolve removed 1 rows and 34 columns\n",
      "Presolve time: 0.01s\n",
      "\n",
      "Solved in 0 iterations and 0.01 seconds\n",
      "Infeasible model\n"
     ]
    }
   ],
   "source": [
    "# Optimize\n",
    "m.optimize()\n",
    "status = m.status\n",
    "if status == GRB.UNBOUNDED:\n",
    "    print('The model cannot be solved because it is unbounded')\n",
    "    sys.exit(0)\n",
    "if status == GRB.OPTIMAL:\n",
    "    print('The optimal objective is %g' % m.objVal)\n",
    "    sys.exit(0)\n",
    "if status != GRB.INF_OR_UNBD and status != GRB.INFEASIBLE:\n",
    "    print('Optimization was stopped with status %d' % status)\n",
    "    sys.exit(0)"
   ]
  },
  {
   "cell_type": "code",
   "execution_count": 18,
   "metadata": {},
   "outputs": [
    {
     "name": "stdout",
     "output_type": "stream",
     "text": [
      "The model is infeasible; computing IIS\n"
     ]
    }
   ],
   "source": [
    "# do IIS\n",
    "print('The model is infeasible; computing IIS')\n",
    "removed = []"
   ]
  },
  {
   "cell_type": "code",
   "execution_count": 19,
   "metadata": {
    "scrolled": true
   },
   "outputs": [
    {
     "name": "stdout",
     "output_type": "stream",
     "text": [
      "\n",
      "IIS computed: 1 constraints and 2 bounds\n",
      "IIS runtime: 0.00 seconds\n",
      "\n",
      "The following constraint cannot be satisified:\n",
      "Thu4\n",
      "\n",
      "\n",
      "The following constraints were removed to get a feasible LP:\n",
      "['Thu4']\n"
     ]
    }
   ],
   "source": [
    "# Loop until we reduce to a model that can be solved\n",
    "while True:\n",
    "    m.computeIIS()\n",
    "    print('\\nThe following constraint cannot be satisified:')\n",
    "    for c in m.getConstrs():\n",
    "        if c.IISConstr:\n",
    "            print('%s' % c.constrName)\n",
    "            # Remove a single constraint from the model\n",
    "            removed.append(str(c.constrName))\n",
    "            m.remove(c)\n",
    "            break\n",
    "    print('')\n",
    "    \n",
    "    m.optimize\n",
    "    status = m.status\n",
    "    \n",
    "    if status == GRB.UNBOUNDED:\n",
    "        print('The model cannot be solved because it is unbounded')\n",
    "        sys.exit(0)\n",
    "    elif status != GRB.INF_OR_UNBD and status != GRB.INFEASIBLE:\n",
    "        print('Optimization was stopped with status %d' % status)\n",
    "        sys.exit(0)\n",
    "    else:\n",
    "        break\n",
    "    \n",
    "print('\\nThe following constraints were removed to get a feasible LP:')\n",
    "print(removed)"
   ]
  }
 ],
 "metadata": {
  "kernelspec": {
   "display_name": "data",
   "language": "python",
   "name": "data"
  },
  "language_info": {
   "codemirror_mode": {
    "name": "ipython",
    "version": 3
   },
   "file_extension": ".py",
   "mimetype": "text/x-python",
   "name": "python",
   "nbconvert_exporter": "python",
   "pygments_lexer": "ipython3",
   "version": "3.7.5"
  }
 },
 "nbformat": 4,
 "nbformat_minor": 2
}
