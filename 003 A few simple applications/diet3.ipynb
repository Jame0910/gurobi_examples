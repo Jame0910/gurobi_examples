{
 "cells": [
  {
   "cell_type": "code",
   "execution_count": 1,
   "metadata": {},
   "outputs": [],
   "source": [
    "# Use a SQLite database with the diet model (dietmodel.py).  The database\n",
    "# (diet.db) can be recreated using the included SQL script (diet.sql).\n",
    "#\n",
    "# Note that this example reads an external data file (..\\data\\diet.db).\n",
    "# As a result, it must be run from the Gurobi examples/python directory."
   ]
  },
  {
   "cell_type": "code",
   "execution_count": 2,
   "metadata": {},
   "outputs": [],
   "source": [
    "import os\n",
    "import sqlite3\n",
    "import dietmodel\n",
    "import gurobipy as gp"
   ]
  },
  {
   "cell_type": "markdown",
   "metadata": {},
   "source": [
    "这一部分Mac找不到目录，没有机会做测试。"
   ]
  },
  {
   "cell_type": "code",
   "execution_count": 4,
   "metadata": {
    "scrolled": true
   },
   "outputs": [],
   "source": [
    "con = sqlite3.connect(os.path.join('..', 'data', 'diet.db'))\n",
    "cur = con.cursor()"
   ]
  },
  {
   "cell_type": "code",
   "execution_count": null,
   "metadata": {},
   "outputs": [],
   "source": [
    "cur.execute('select category,minnutrition,maxnutrition from categories')\n",
    "result = cur.fetchall()\n",
    "categories, minNutrition, maxNutrition = gp.multidict(\n",
    "    (cat, [minv, maxv]) for cat, minv, maxv in result)"
   ]
  },
  {
   "cell_type": "code",
   "execution_count": null,
   "metadata": {},
   "outputs": [],
   "source": [
    "cur.execute('select food,cost from foods')\n",
    "result = cur.fetchall()\n",
    "foods, cost = gp.multidict(result)"
   ]
  },
  {
   "cell_type": "code",
   "execution_count": null,
   "metadata": {},
   "outputs": [],
   "source": [
    "cur.execute('select food,category,value from nutrition')\n",
    "result = cur.fetchall()\n",
    "nutritionValues = dict(((f, c), v) for f, c, v in result)"
   ]
  },
  {
   "cell_type": "code",
   "execution_count": null,
   "metadata": {},
   "outputs": [],
   "source": [
    "con.close()"
   ]
  },
  {
   "cell_type": "code",
   "execution_count": null,
   "metadata": {},
   "outputs": [],
   "source": [
    "dietmodel.solve(categories, minNutrition, maxNutrition,\n",
    "                foods, cost, nutritionValues)"
   ]
  }
 ],
 "metadata": {
  "kernelspec": {
   "display_name": "data",
   "language": "python",
   "name": "data"
  },
  "language_info": {
   "codemirror_mode": {
    "name": "ipython",
    "version": 3
   },
   "file_extension": ".py",
   "mimetype": "text/x-python",
   "name": "python",
   "nbconvert_exporter": "python",
   "pygments_lexer": "ipython3",
   "version": "3.7.5"
  }
 },
 "nbformat": 4,
 "nbformat_minor": 2
}
