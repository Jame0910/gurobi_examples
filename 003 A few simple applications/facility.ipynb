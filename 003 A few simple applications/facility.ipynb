{
 "cells": [
  {
   "cell_type": "markdown",
   "metadata": {},
   "source": [
    "# Facility\n",
    "\n",
    "Simple facility location model: given a set of plants and a set of warehouses, with transportation costs between them, this example finds the least expensive set of plants to open in order to satisfy product demand. This example demonstrates the use of MIP starts — the example computes an initial, heuristic solution and passes that solution to the MIP solver."
   ]
  },
  {
   "cell_type": "markdown",
   "metadata": {},
   "source": [
    "**Problem**  \n",
    "A company currently ships products from 5 plants to 4 warehouses. The company is considering the option of closing down one or more plants. This would increase distribution cost but perhaps lower overall cost. What plants, if any, should the company close?\t \n",
    "\n",
    "\n",
    "**Solution**  \n",
    "1) The variables are the decisions to **open or close the plants**, and **the number of products** that should be shipped from the plants that are open to the warehouses. In worksheet Facility these are given the names `Open_or_close` and `Products_shipped`.\t \n",
    "2) The logical constraints are\n",
    "> `Products_shipped` >= 0 via the Assume Non-Negative option\t \t \n",
    "> `Open_or_close` = binary\t \n",
    "\n",
    "The products made can not exceed the capacity of the plants and the number shipped should meet the demand. This gives\n",
    "> `Products_made` <= Capacity  \n",
    "> `Total_shipped` >= Demand  \n",
    "\n",
    "3) The objective is to minimize cost. This is given the name `Total_cost` on the worksheet.\n",
    "\n",
    "**Remarks**  \n",
    "- It is often possible to increase the capacity of a plant. This could be worked into the model with additional 0-1 or binary integer variables. The Solver would find out **if it would be profitable to extend the capacity of a plant**.  \n",
    "- It could also be interesting to see if it would be profitable to **open another warehouse**. An example of this can be found, in somewhat modified form, in the capacity planning model in the Finance Examples workbook."
   ]
  },
  {
   "cell_type": "code",
   "execution_count": 35,
   "metadata": {},
   "outputs": [],
   "source": [
    "# Facility location: a company currently ships its product from 5 plants\n",
    "# to 4 warehouses. It is considering closing some plants to reduce\n",
    "# costs. What plant(s) should the company close, in order to minimize\n",
    "# transportation and fixed costs?\n",
    "#\n",
    "# Note that this example uses lists instead of dictionaries.  Since\n",
    "# it does not work with sparse data, lists are a reasonable option.\n",
    "#\n",
    "# Based on an example from Frontline Systems:\n",
    "#   http://www.solver.com/disfacility.htm\n",
    "# Used with permission.\n",
    "\n",
    "import gurobipy as gp\n",
    "from gurobipy import GRB"
   ]
  },
  {
   "cell_type": "code",
   "execution_count": 36,
   "metadata": {},
   "outputs": [],
   "source": [
    "# Plant capacity in thousands of units\n",
    "capacity = [20, 22, 17, 19, 18]\n",
    "\n",
    "# Warehouse demand in thousands of units\n",
    "demand = [15, 18, 14, 20]\n",
    "\n",
    "# Fixed costs for each plant\n",
    "fixedCosts = [12000, 15000, 17000, 13000, 16000]\n",
    "\n",
    "# Transportation costs per thousand units\n",
    "transCosts = [[4000, 2000, 3000, 2500, 4500],\n",
    "              [2500, 2600, 3400, 3000, 4000],\n",
    "              [1200, 1800, 2600, 4100, 3000],\n",
    "              [2200, 2600, 3100, 3700, 3200]]\n",
    "\n",
    "# Range of plants and warehouses\n",
    "plants = range(len(capacity))\n",
    "warehouses = range(len(demand))"
   ]
  },
  {
   "cell_type": "code",
   "execution_count": 37,
   "metadata": {},
   "outputs": [],
   "source": [
    "# Model\n",
    "m = gp.Model(\"facility\")"
   ]
  },
  {
   "cell_type": "code",
   "execution_count": 55,
   "metadata": {},
   "outputs": [
    {
     "data": {
      "text/plain": [
       "{0: <gurobi.Var *Awaiting Model Update*>,\n",
       " 1: <gurobi.Var *Awaiting Model Update*>,\n",
       " 2: <gurobi.Var *Awaiting Model Update*>,\n",
       " 3: <gurobi.Var *Awaiting Model Update*>,\n",
       " 4: <gurobi.Var *Awaiting Model Update*>}"
      ]
     },
     "execution_count": 55,
     "metadata": {},
     "output_type": "execute_result"
    }
   ],
   "source": [
    "# Plant open decision variables: open[p] == 1 if plant p is open.\n",
    "open_ = m.addVars(plants, vtype=GRB.BINARY, obj=fixedCosts, name='open')\n",
    "open_"
   ]
  },
  {
   "cell_type": "code",
   "execution_count": 39,
   "metadata": {},
   "outputs": [],
   "source": [
    "# Transportation decision variables: transport[w,p] captures the\n",
    "# optimal quantity to transport to warehouse w from plant p\n",
    "transport = m.addVars(warehouses, plants, obj=transCosts, name='trans')"
   ]
  },
  {
   "cell_type": "code",
   "execution_count": 40,
   "metadata": {},
   "outputs": [],
   "source": [
    "# You could use Python looping constructs and m.addVar() to create\n",
    "# these decision variables instead.  The following would be equivalent\n",
    "# to the preceding two statements...\n",
    "#\n",
    "# open = []\n",
    "# for p in plants:\n",
    "#     open.append(m.addVar(vtype=GRB.BINARY,\n",
    "#                          obj=fixedCosts[p],\n",
    "#                          name=\"open[%d]\" % p))\n",
    "#\n",
    "# transport = []\n",
    "# for w in warehouses:\n",
    "#     transport.append([])\n",
    "#     for p in plants:\n",
    "#         transport[w].append(m.addVar(obj=transCosts[w][p],\n",
    "#                                      name=\"trans[%d,%d]\" % (w, p)))"
   ]
  },
  {
   "cell_type": "code",
   "execution_count": 41,
   "metadata": {},
   "outputs": [],
   "source": [
    "# The objective is to minimize the total fixed and variable costs\n",
    "m.modelSense = GRB.MAXIMIZE"
   ]
  },
  {
   "cell_type": "code",
   "execution_count": 42,
   "metadata": {
    "scrolled": true
   },
   "outputs": [
    {
     "data": {
      "text/plain": [
       "{0: <gurobi.Constr *Awaiting Model Update*>,\n",
       " 1: <gurobi.Constr *Awaiting Model Update*>,\n",
       " 2: <gurobi.Constr *Awaiting Model Update*>,\n",
       " 3: <gurobi.Constr *Awaiting Model Update*>,\n",
       " 4: <gurobi.Constr *Awaiting Model Update*>}"
      ]
     },
     "execution_count": 42,
     "metadata": {},
     "output_type": "execute_result"
    }
   ],
   "source": [
    "# Production constraints\n",
    "# Note that the right-hand limit sets the production to zero if the plant\n",
    "# is closed\n",
    "\n",
    "m.addConstrs((transport.sum('*', p) <= capacity[p] * open[p] for p in plants),\n",
    "             name='Capacity'\n",
    "             )"
   ]
  },
  {
   "cell_type": "code",
   "execution_count": 43,
   "metadata": {},
   "outputs": [
    {
     "data": {
      "text/plain": [
       "{0: <gurobi.Constr *Awaiting Model Update*>,\n",
       " 1: <gurobi.Constr *Awaiting Model Update*>,\n",
       " 2: <gurobi.Constr *Awaiting Model Update*>,\n",
       " 3: <gurobi.Constr *Awaiting Model Update*>}"
      ]
     },
     "execution_count": 43,
     "metadata": {},
     "output_type": "execute_result"
    }
   ],
   "source": [
    "# Demand constraints\n",
    "m.addConstrs((transport.sum(w, '*') == demand[w] for w in warehouses),\n",
    "             name='Demand'\n",
    "            )"
   ]
  },
  {
   "cell_type": "code",
   "execution_count": 44,
   "metadata": {},
   "outputs": [],
   "source": [
    "# Save model\n",
    "m.write('facilityPY.lp')"
   ]
  },
  {
   "cell_type": "code",
   "execution_count": 57,
   "metadata": {},
   "outputs": [
    {
     "data": {
      "text/plain": [
       "{0: <gurobi.Var *Awaiting Model Update*>,\n",
       " 1: <gurobi.Var *Awaiting Model Update*>,\n",
       " 2: <gurobi.Var *Awaiting Model Update*>,\n",
       " 3: <gurobi.Var *Awaiting Model Update*>,\n",
       " 4: <gurobi.Var *Awaiting Model Update*>}"
      ]
     },
     "execution_count": 57,
     "metadata": {},
     "output_type": "execute_result"
    }
   ],
   "source": [
    "# Guess at the starting point: close the plant with the highest fixed costs;\n",
    "# open all others\n",
    "# First open all plants\n",
    "for p in plants:\n",
    "    open_[p].start = 1.0\n",
    "open_"
   ]
  },
  {
   "cell_type": "code",
   "execution_count": 58,
   "metadata": {},
   "outputs": [
    {
     "name": "stdout",
     "output_type": "stream",
     "text": [
      "Initial guess:\n",
      "close plant 4\n"
     ]
    }
   ],
   "source": [
    "# Now close the plant with the highest fixed cost\n",
    "print('Initial guess:')\n",
    "maxFixed = max(fixedCosts)\n",
    "p_idx = fixedCosts.index(maxFixed)\n",
    "open_[p_idx].start = 0.0\n",
    "print('close plant %s' % p)"
   ]
  },
  {
   "cell_type": "code",
   "execution_count": 60,
   "metadata": {},
   "outputs": [
    {
     "name": "stdout",
     "output_type": "stream",
     "text": [
      "Parameter method unchanged\n",
      "   Value: 2  Min: -1  Max: 5  Default: -1\n"
     ]
    }
   ],
   "source": [
    "# Use barrier to solve root relaxation\n",
    "m.Params.method = 2"
   ]
  },
  {
   "cell_type": "code",
   "execution_count": 61,
   "metadata": {},
   "outputs": [
    {
     "name": "stdout",
     "output_type": "stream",
     "text": [
      "Gurobi Optimizer version 9.0.0 build v9.0.0rc2 (mac64)\n",
      "Optimize a model with 9 rows, 40 columns and 45 nonzeros\n",
      "Model fingerprint: 0x91483108\n",
      "Variable types: 20 continuous, 20 integer (20 binary)\n",
      "Coefficient statistics:\n",
      "  Matrix range     [1e+00, 2e+01]\n",
      "  Objective range  [1e+03, 2e+04]\n",
      "  Bounds range     [1e+00, 1e+00]\n",
      "  RHS range        [1e+01, 2e+01]\n",
      "\n",
      "User MIP start produced solution with objective 504900 (0.02s)\n",
      "Loaded user MIP start with objective 504900\n",
      "MIP start from previous solve produced solution with objective 546400 (0.02s)\n",
      "Loaded MIP start from previous solve with objective 546400\n",
      "\n",
      "Presolve removed 0 rows and 20 columns\n",
      "Presolve time: 0.00s\n",
      "Presolved: 9 rows, 20 columns, 40 nonzeros\n",
      "Variable types: 20 continuous, 0 integer (0 binary)\n",
      "Root barrier log...\n",
      "\n",
      "Ordering time: 0.00s\n",
      "\n",
      "Barrier statistics:\n",
      " AA' NZ     : 2.000e+01\n",
      " Factor NZ  : 4.500e+01\n",
      " Factor Ops : 2.850e+02 (less than 1 second per iteration)\n",
      " Threads    : 1\n",
      "\n",
      "                  Objective                Residual\n",
      "Iter       Primal          Dual         Primal    Dual     Compl     Time\n",
      "   0   8.71303743e+05  4.87800000e+05  1.63e+01 2.52e+03  1.14e+04     0s\n",
      "   1   5.17811289e+05  5.77207415e+05  2.66e-15 1.82e-12  1.32e+03     0s\n",
      "   2   5.40320569e+05  5.49540871e+05  0.00e+00 1.82e-12  2.05e+02     0s\n",
      "   3   5.46167793e+05  5.46831114e+05  4.26e-14 1.82e-12  1.47e+01     0s\n",
      "   4   5.46340538e+05  5.46403304e+05  5.31e-13 9.09e-13  1.39e+00     0s\n",
      "   5   5.46400000e+05  5.46400007e+05  1.78e-15 1.82e-12  1.63e-04     0s\n",
      "   6   5.46400000e+05  5.46400000e+05  8.90e-13 1.82e-12  1.63e-10     0s\n",
      "\n",
      "Barrier solved model in 6 iterations and 0.18 seconds\n",
      "Optimal objective 5.46400000e+05\n",
      "\n",
      "\n",
      "Root relaxation: cutoff, 7 iterations, 0.09 seconds\n",
      "\n",
      "    Nodes    |    Current Node    |     Objective Bounds      |     Work\n",
      " Expl Unexpl |  Obj  Depth IntInf | Incumbent    BestBd   Gap | It/Node Time\n",
      "\n",
      "     0     0     cutoff    0      546400.000 546400.000  0.00%     -    0s\n",
      "\n",
      "Explored 0 nodes (7 simplex iterations) in 0.23 seconds\n",
      "Thread count was 4 (of 4 available processors)\n",
      "\n",
      "Solution count 2: 546400 504900 \n",
      "\n",
      "Optimal solution found (tolerance 1.00e-04)\n",
      "Best objective 5.464000000000e+05, best bound 5.464000000000e+05, gap 0.0000%\n"
     ]
    }
   ],
   "source": [
    "# Solve\n",
    "m.optimize()"
   ]
  },
  {
   "cell_type": "code",
   "execution_count": 62,
   "metadata": {
    "scrolled": true
   },
   "outputs": [
    {
     "name": "stdout",
     "output_type": "stream",
     "text": [
      "\n",
      "TOTAL COSTS: 546400\n",
      "SOLUTION:\n",
      "Plant 0 open\n",
      "  Transport 15 units to warehouse 0\n",
      "Plant 1 open\n",
      "Plant 2 open\n",
      "  Transport 15 units to warehouse 3\n",
      "Plant 3 open\n",
      "  Transport 14 units to warehouse 2\n",
      "  Transport 5 units to warehouse 3\n",
      "Plant 4 open\n",
      "  Transport 18 units to warehouse 1\n"
     ]
    }
   ],
   "source": [
    "# Print solution\n",
    "print('\\nTOTAL COSTS: %g' % m.objVal)\n",
    "print('SOLUTION:')\n",
    "for p in plants:\n",
    "    if open[p].x > 0.99:\n",
    "        print('Plant %s open' % p)\n",
    "        for w in warehouses:\n",
    "            if transport[w, p].x > 0:\n",
    "                print('  Transport %g units to warehouse %s' %\n",
    "                      (transport[w, p].x, w))\n",
    "    else:\n",
    "        print('Plant %s closed!' % p)"
   ]
  },
  {
   "cell_type": "code",
   "execution_count": 72,
   "metadata": {},
   "outputs": [
    {
     "data": {
      "text/plain": [
       "{0: <gurobi.Var open[0] (value 1.0)>,\n",
       " 1: <gurobi.Var open[1] (value 1.0)>,\n",
       " 2: <gurobi.Var open[2] (value 1.0)>,\n",
       " 3: <gurobi.Var open[3] (value 1.0)>,\n",
       " 4: <gurobi.Var open[4] (value 1.0)>}"
      ]
     },
     "execution_count": 72,
     "metadata": {},
     "output_type": "execute_result"
    }
   ],
   "source": [
    "open"
   ]
  },
  {
   "cell_type": "code",
   "execution_count": 73,
   "metadata": {
    "scrolled": false
   },
   "outputs": [
    {
     "data": {
      "text/plain": [
       "{(0, 0): <gurobi.Var trans[0,0] (value 15.0)>,\n",
       " (0, 1): <gurobi.Var trans[0,1] (value 0.0)>,\n",
       " (0, 2): <gurobi.Var trans[0,2] (value 0.0)>,\n",
       " (0, 3): <gurobi.Var trans[0,3] (value 0.0)>,\n",
       " (0, 4): <gurobi.Var trans[0,4] (value 0.0)>,\n",
       " (1, 0): <gurobi.Var trans[1,0] (value 0.0)>,\n",
       " (1, 1): <gurobi.Var trans[1,1] (value 0.0)>,\n",
       " (1, 2): <gurobi.Var trans[1,2] (value 0.0)>,\n",
       " (1, 3): <gurobi.Var trans[1,3] (value 0.0)>,\n",
       " (1, 4): <gurobi.Var trans[1,4] (value 18.0)>,\n",
       " (2, 0): <gurobi.Var trans[2,0] (value 0.0)>,\n",
       " (2, 1): <gurobi.Var trans[2,1] (value 0.0)>,\n",
       " (2, 2): <gurobi.Var trans[2,2] (value 0.0)>,\n",
       " (2, 3): <gurobi.Var trans[2,3] (value 14.0)>,\n",
       " (2, 4): <gurobi.Var trans[2,4] (value 0.0)>,\n",
       " (3, 0): <gurobi.Var trans[3,0] (value 0.0)>,\n",
       " (3, 1): <gurobi.Var trans[3,1] (value 0.0)>,\n",
       " (3, 2): <gurobi.Var trans[3,2] (value 15.0)>,\n",
       " (3, 3): <gurobi.Var trans[3,3] (value 5.0)>,\n",
       " (3, 4): <gurobi.Var trans[3,4] (value 0.0)>}"
      ]
     },
     "execution_count": 73,
     "metadata": {},
     "output_type": "execute_result"
    }
   ],
   "source": [
    "transport"
   ]
  }
 ],
 "metadata": {
  "kernelspec": {
   "display_name": "data",
   "language": "python",
   "name": "data"
  },
  "language_info": {
   "codemirror_mode": {
    "name": "ipython",
    "version": 3
   },
   "file_extension": ".py",
   "mimetype": "text/x-python",
   "name": "python",
   "nbconvert_exporter": "python",
   "pygments_lexer": "ipython3",
   "version": "3.7.5"
  }
 },
 "nbformat": 4,
 "nbformat_minor": 2
}
