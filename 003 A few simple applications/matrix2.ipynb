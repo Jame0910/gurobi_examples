{
 "cells": [
  {
   "cell_type": "markdown",
   "metadata": {},
   "source": [
    "# N皇后问题\n",
    "在一个国际象棋棋盘上，摆放皇后棋子，使得每一行、列、对角线仅有一个皇后。  \n",
    "目标是使得旗子数量最多。"
   ]
  },
  {
   "cell_type": "code",
   "execution_count": 25,
   "metadata": {},
   "outputs": [],
   "source": [
    "#!/usr/bin/env python3.7\n",
    "\n",
    "# Copyright 2020, Gurobi Optimization, LLC\n",
    "\n",
    "# This example uses the Python matrix API to formulate the n-queens\n",
    "# problem; it maximizes the number queens placed on an n x n\n",
    "# chessboard without threatening each other.\n",
    "#\n",
    "# This example demonstrates NumPy slicing.\n",
    "\n",
    "import numpy as np\n",
    "import scipy.sparse as sp\n",
    "import gurobipy as gp\n",
    "from gurobipy import GRB"
   ]
  },
  {
   "cell_type": "code",
   "execution_count": 26,
   "metadata": {},
   "outputs": [],
   "source": [
    "# Size of the n x n chess board\n",
    "n = 8"
   ]
  },
  {
   "cell_type": "code",
   "execution_count": 27,
   "metadata": {},
   "outputs": [],
   "source": [
    "# Create a new model\n",
    "m = gp.Model(\"matrix2\")"
   ]
  },
  {
   "cell_type": "code",
   "execution_count": 28,
   "metadata": {},
   "outputs": [],
   "source": [
    "# Create a 2-D array of binary variables\n",
    "# x[i,j]=1 means that a queen is placed at square (i,j)\n",
    "x = m.addMVar((n, n), vtype=GRB.BINARY, name='x')"
   ]
  },
  {
   "cell_type": "code",
   "execution_count": 29,
   "metadata": {
    "scrolled": true
   },
   "outputs": [
    {
     "data": {
      "text/plain": [
       "<(8, 8) matrix variable>"
      ]
     },
     "execution_count": 29,
     "metadata": {},
     "output_type": "execute_result"
    }
   ],
   "source": [
    "x"
   ]
  },
  {
   "cell_type": "code",
   "execution_count": 30,
   "metadata": {},
   "outputs": [],
   "source": [
    "# Set objective - maximize number of queens\n",
    "m.setObjective(x.sum(), GRB.MAXIMIZE)"
   ]
  },
  {
   "cell_type": "code",
   "execution_count": 41,
   "metadata": {},
   "outputs": [],
   "source": [
    "# Add row and column constraints\n",
    "for i in range(n):\n",
    "    \n",
    "    # At most one queen per row\n",
    "    m.addConstr(x[i, :].sum() <= 1, name='row'+str(i))\n",
    "    \n",
    "    # At most one queen per column\n",
    "    m.addConstr(x[:, i].sum() <= 1, name='col'+str(i))"
   ]
  },
  {
   "cell_type": "markdown",
   "metadata": {},
   "source": [
    "### Core part: 对角线不冲突"
   ]
  },
  {
   "cell_type": "code",
   "execution_count": 32,
   "metadata": {},
   "outputs": [],
   "source": [
    "# Add diagonal constraints\n",
    "for i in range(1, 2*n):\n",
    "    \n",
    "    # At most one queen per diagonal\n",
    "    diagn = (range(max(0, i-n), min(n, i)), range(min(n, i)-1, max(0, i-n)-1, -1))\n",
    "    m.addConstr(x[diagn].sum() <= 1, name='diag'+str(i))\n",
    "    # print(diagn)\n",
    "\n",
    "    # At most one queen per anti-diagonal\n",
    "    adiagn = (range(max(0, i-n), min(n, i)), range(max(0, n-i), min(n, 2*n-i)))\n",
    "    m.addConstr(x[adiagn].sum() <= 1, name='adiagn'+str(i))\n",
    "    # print(adiagn)"
   ]
  },
  {
   "cell_type": "code",
   "execution_count": 33,
   "metadata": {
    "scrolled": false
   },
   "outputs": [
    {
     "name": "stdout",
     "output_type": "stream",
     "text": [
      "Gurobi Optimizer version 9.0.0 build v9.0.0rc2 (mac64)\n",
      "Optimize a model with 158 rows, 64 columns and 256 nonzeros\n",
      "Model fingerprint: 0x523080b3\n",
      "Variable types: 0 continuous, 64 integer (64 binary)\n",
      "Coefficient statistics:\n",
      "  Matrix range     [1e+00, 1e+00]\n",
      "  Objective range  [1e+00, 1e+00]\n",
      "  Bounds range     [1e+00, 1e+00]\n",
      "  RHS range        [1e+00, 1e+00]\n",
      "Found heuristic solution: objective 12.0000000\n",
      "Presolve removed 146 rows and 40 columns\n",
      "Presolve time: 0.00s\n",
      "Presolved: 12 rows, 24 columns, 48 nonzeros\n",
      "Found heuristic solution: objective 13.0000000\n",
      "Variable types: 0 continuous, 24 integer (24 binary)\n",
      "\n",
      "Root relaxation: objective 1.400000e+01, 7 iterations, 0.00 seconds\n",
      "\n",
      "    Nodes    |    Current Node    |     Objective Bounds      |     Work\n",
      " Expl Unexpl |  Obj  Depth IntInf | Incumbent    BestBd   Gap | It/Node Time\n",
      "\n",
      "*    0     0               0      14.0000000   14.00000  0.00%     -    0s\n",
      "\n",
      "Explored 0 nodes (7 simplex iterations) in 0.12 seconds\n",
      "Thread count was 4 (of 4 available processors)\n",
      "\n",
      "Solution count 3: 14 13 12 \n",
      "\n",
      "Optimal solution found (tolerance 1.00e-04)\n",
      "Best objective 1.400000000000e+01, best bound 1.400000000000e+01, gap 0.0000%\n"
     ]
    }
   ],
   "source": [
    "m.optimize()"
   ]
  },
  {
   "cell_type": "code",
   "execution_count": 45,
   "metadata": {
    "scrolled": true
   },
   "outputs": [
    {
     "name": "stdout",
     "output_type": "stream",
     "text": [
      "[[-0. -0. -0. -0.  1. -0.  0. -0.]\n",
      " [-0.  1. -0. -0. -0.  0. -0. -0.]\n",
      " [-0. -0. -0. -0.  0.  1. -0.  0.]\n",
      " [ 1. -0. -0. -0.  0. -0. -0. -0.]\n",
      " [ 0. -0.  0. -0. -0. -0.  1.  0.]\n",
      " [-0. -0. -0.  1. -0. -0.  0. -0.]\n",
      " [-0.  0.  0. -0. -0.  0. -0.  1.]\n",
      " [-0. -0.  1.  0. -0. -0. -0. -0.]]\n",
      "Queens placed: 8\n"
     ]
    }
   ],
   "source": [
    "print(x.X)\n",
    "print('Queens placed: %g' % m.objVal)"
   ]
  }
 ],
 "metadata": {
  "kernelspec": {
   "display_name": "data",
   "language": "python",
   "name": "data"
  },
  "language_info": {
   "codemirror_mode": {
    "name": "ipython",
    "version": 3
   },
   "file_extension": ".py",
   "mimetype": "text/x-python",
   "name": "python",
   "nbconvert_exporter": "python",
   "pygments_lexer": "ipython3",
   "version": "3.7.5"
  }
 },
 "nbformat": 4,
 "nbformat_minor": 2
}
