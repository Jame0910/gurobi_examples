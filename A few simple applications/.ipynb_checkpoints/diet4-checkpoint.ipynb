{
 "cells": [
  {
   "cell_type": "code",
   "execution_count": 1,
   "metadata": {},
   "outputs": [],
   "source": [
    "#!/usr/bin/env python3.7\n",
    "\n",
    "# Copyright 2020, Gurobi Optimization, LLC\n",
    "\n",
    "# Read diet model data from an Excel spreadsheet (diet.xls).\n",
    "# Pass the imported data into the diet model (dietmodel.py).\n",
    "#\n",
    "# Note that this example reads an external data file (..\\data\\diet.xls).\n",
    "# As a result, it must be run from the Gurobi examples/python directory.\n",
    "#\n",
    "# This example requires Python package 'xlrd', which isn't included\n",
    "# in most Python distributions.  You can obtain it from\n",
    "# http://pypi.python.org/pypi/xlrd."
   ]
  },
  {
   "cell_type": "code",
   "execution_count": 3,
   "metadata": {},
   "outputs": [],
   "source": [
    "import os\n",
    "import xlrd\n",
    "import dietmodel"
   ]
  },
  {
   "cell_type": "code",
   "execution_count": 5,
   "metadata": {},
   "outputs": [],
   "source": [
    "book = xlrd.open_workbook(os.path.join(\"..\", \"data\", \"diet.xls\"))"
   ]
  },
  {
   "cell_type": "code",
   "execution_count": null,
   "metadata": {},
   "outputs": [],
   "source": [
    "sh = book.sheet_by_name(\"Categories\")\n",
    "categories = []\n",
    "minNutrition = {}\n",
    "maxNutrition = {}\n",
    "i = 1\n",
    "while True:\n",
    "    try:\n",
    "        c = sh.cell_value(i, 0)\n",
    "        categories.append(c)\n",
    "        minNutrition[c] = sh.cell_value(i, 1)\n",
    "        maxNutrition[c] = sh.cell_value(i, 2)\n",
    "        i = i + 1\n",
    "    except IndexError:\n",
    "        break"
   ]
  },
  {
   "cell_type": "code",
   "execution_count": null,
   "metadata": {},
   "outputs": [],
   "source": [
    "sh = book.sheet_by_name(\"Foods\")\n",
    "foods = []\n",
    "cost = {}\n",
    "i = 1\n",
    "while True:\n",
    "    try:\n",
    "        f = sh.cell_value(i, 0)\n",
    "        foods.append(f)\n",
    "        cost[f] = sh.cell_value(i, 1)\n",
    "        i = i + 1\n",
    "    except IndexError:\n",
    "        break"
   ]
  },
  {
   "cell_type": "code",
   "execution_count": null,
   "metadata": {},
   "outputs": [],
   "source": [
    "sh = book.sheet_by_name(\"Nutrition\")\n",
    "nutritionValues = {}\n",
    "i = 1\n",
    "for food in foods:\n",
    "    j = 1\n",
    "    for cat in categories:\n",
    "        nutritionValues[food, cat] = sh.cell_value(i, j)\n",
    "        j += 1\n",
    "    i += 1"
   ]
  },
  {
   "cell_type": "code",
   "execution_count": null,
   "metadata": {},
   "outputs": [],
   "source": [
    "dietmodel.solve(categories, minNutrition, maxNutrition,\n",
    "                foods, cost, nutritionValues)"
   ]
  }
 ],
 "metadata": {
  "kernelspec": {
   "display_name": "data",
   "language": "python",
   "name": "data"
  },
  "language_info": {
   "codemirror_mode": {
    "name": "ipython",
    "version": 3
   },
   "file_extension": ".py",
   "mimetype": "text/x-python",
   "name": "python",
   "nbconvert_exporter": "python",
   "pygments_lexer": "ipython3",
   "version": "3.7.5"
  }
 },
 "nbformat": 4,
 "nbformat_minor": 2
}
