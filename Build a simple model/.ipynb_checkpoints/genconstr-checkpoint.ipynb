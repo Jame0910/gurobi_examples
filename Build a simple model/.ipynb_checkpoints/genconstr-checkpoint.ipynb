{
 "cells": [
  {
   "cell_type": "code",
   "execution_count": 1,
   "metadata": {},
   "outputs": [],
   "source": [
    "# In this example we show the use of general constraints for modeling\n",
    "# some common expressions . We use as an example a SAT - problem where we\n",
    "# want to see if it is possible to satisfy at least four (or all) clauses\n",
    "# of the logical for\n",
    "#\n",
    "# L = (x0 or ~x1 or x2)   and (x1 or ~x2 or x3)   and\n",
    "#     (x2 or ~x3 or x0)   and (x3 or ~x0 or x1)   and\n",
    "#     (~ x0 or ~x1 or x2) and (~ x1 or ~x2 or x3) and\n",
    "#     (~ x2 or ~x3 or x0) and (~ x3 or ~x0 or x1)\n",
    "#\n",
    "# We do this by introducing two variables for each literal ( itself and its\n",
    "# negated value ), a variable for each clause , and then two\n",
    "# variables for indicating if we can satisfy four , and another to identify\n",
    "# the minimum of the clauses (so if it is one , we can satisfy all clauses )\n",
    "# and put these two variables in the objective .\n",
    "# i.e. the Objective function will be\n",
    "#\n",
    "# maximize Obj0 + Obj1\n",
    "#\n",
    "# Obj0 = MIN( Clause1 , ... , Clause8 )\n",
    "# Obj1 = 1 -> Clause1 + ... + Clause8 >= 4\n",
    "#\n",
    "# thus , the objective value will be two if and only if we can satisfy all\n",
    "# clauses ; one if and only if at least four clauses can be satisfied , and\n",
    "# zero otherwise ."
   ]
  },
  {
   "cell_type": "code",
   "execution_count": 2,
   "metadata": {},
   "outputs": [],
   "source": [
    "import gurobipy as gp\n",
    "from gurobipy import GRB\n",
    "import sys"
   ]
  },
  {
   "cell_type": "code",
   "execution_count": 3,
   "metadata": {},
   "outputs": [],
   "source": [
    "NLITERALS = 4\n",
    "n = NLITERALS\n",
    "\n",
    "# Example data:\n",
    "# e.g. {0, n+1, 2} means clause (x0 or ~x1 or x2)\n",
    "Clauses = [\n",
    "    [0, n+1, 2],\n",
    "    [1, n+2, 3],\n",
    "    [2, n+3, 0],\n",
    "    [3, n+0, 1],\n",
    "    [n+0, n+1, 2],\n",
    "    [n+1, n+2, 3],\n",
    "    [n+2, n+3, 0],\n",
    "    [n+3, n+0, 1]\n",
    "]"
   ]
  },
  {
   "cell_type": "code",
   "execution_count": 4,
   "metadata": {},
   "outputs": [
    {
     "name": "stdout",
     "output_type": "stream",
     "text": [
      "Using license file /Users/yj/gurobi.lic\n"
     ]
    }
   ],
   "source": [
    "# Create a new model\n",
    "model = gp.Model('Genconstr')"
   ]
  },
  {
   "cell_type": "code",
   "execution_count": 5,
   "metadata": {},
   "outputs": [],
   "source": [
    "# initialize decision variable and objective\n",
    "Lit = model.addVars(NLITERALS, vtype=GRB.BINARY, name='X')\n",
    "NotLit = model.addVars(NLITERALS, vtype=GRB.BINARY, name='NotX')\n",
    "\n",
    "Cla = model.addVars(len(Clauses), vtype=GRB.BINARY, name='Clause')\n",
    "\n",
    "Obj0 = model.addVar(vtype=GRB.BINARY, name='Obj1')\n",
    "Obj1 = model.addVar(vtype=GRB.BINARY, name='Obj2')"
   ]
  },
  {
   "cell_type": "code",
   "execution_count": 11,
   "metadata": {
    "scrolled": true
   },
   "outputs": [
    {
     "data": {
      "text/plain": [
       "{0: <gurobi.Constr *Awaiting Model Update*>,\n",
       " 1: <gurobi.Constr *Awaiting Model Update*>,\n",
       " 2: <gurobi.Constr *Awaiting Model Update*>,\n",
       " 3: <gurobi.Constr *Awaiting Model Update*>}"
      ]
     },
     "execution_count": 11,
     "metadata": {},
     "output_type": "execute_result"
    }
   ],
   "source": [
    "# Link Xi and notXi\n",
    "model.addConstrs((Lit[i] + NotLit[i] == 1.0 for i in range(NLITERALS)),\n",
    "                 name='CNSTR_X')"
   ]
  },
  {
   "cell_type": "code",
   "execution_count": 13,
   "metadata": {},
   "outputs": [],
   "source": [
    "# Link clauses and literals\n",
    "for i, c  in enumerate(Clauses):\n",
    "    # print(i,c)\n",
    "    clause = []\n",
    "    for l in c:\n",
    "        if l >= n:\n",
    "            clause.append(NotLit[l-n])\n",
    "        else:\n",
    "            clause.append(Lit[l])\n",
    "    model.addConstr(Cla[i] == gp.or_(clause), 'CNSTR_Clause' + str(i))"
   ]
  },
  {
   "cell_type": "code",
   "execution_count": 14,
   "metadata": {},
   "outputs": [
    {
     "data": {
      "text/plain": [
       "<gurobi.GenConstr *Awaiting Model Update*>"
      ]
     },
     "execution_count": 14,
     "metadata": {},
     "output_type": "execute_result"
    }
   ],
   "source": [
    "# Link objs with clauses\n",
    "model.addConstr(Obj0 == gp.min_(Cla), name = 'CNSTR_Obj0')\n",
    "model.addConstr((Obj1 == 1) >> (Cla.sum() >= 4.0), name = 'CNSTR_Obj1')"
   ]
  },
  {
   "cell_type": "code",
   "execution_count": 15,
   "metadata": {},
   "outputs": [],
   "source": [
    "# Set optimization objective\n",
    "model.setObjective(Obj0 + Obj1, GRB.MAXIMIZE)"
   ]
  },
  {
   "cell_type": "code",
   "execution_count": 16,
   "metadata": {},
   "outputs": [],
   "source": [
    "# Save problem\n",
    "model.write('genconstr.mps')\n",
    "model.write('genconstr.lp')"
   ]
  },
  {
   "cell_type": "code",
   "execution_count": 17,
   "metadata": {
    "scrolled": false
   },
   "outputs": [
    {
     "name": "stdout",
     "output_type": "stream",
     "text": [
      "Gurobi Optimizer version 9.0.0 build v9.0.0rc2 (mac64)\n",
      "Optimize a model with 4 rows, 18 columns and 8 nonzeros\n",
      "Model fingerprint: 0x14d622b5\n",
      "Model has 10 general constraints\n",
      "Variable types: 0 continuous, 18 integer (18 binary)\n",
      "Coefficient statistics:\n",
      "  Matrix range     [1e+00, 1e+00]\n",
      "  Objective range  [1e+00, 1e+00]\n",
      "  Bounds range     [1e+00, 1e+00]\n",
      "  RHS range        [1e+00, 1e+00]\n",
      "Presolve added 37 rows and 0 columns\n",
      "Presolve removed 0 rows and 4 columns\n",
      "Presolve time: 0.04s\n",
      "Presolved: 41 rows, 14 columns, 105 nonzeros\n",
      "Variable types: 0 continuous, 14 integer (14 binary)\n",
      "Found heuristic solution: objective 1.0000000\n",
      "Found heuristic solution: objective 2.0000000\n",
      "\n",
      "Explored 0 nodes (0 simplex iterations) in 0.16 seconds\n",
      "Thread count was 4 (of 4 available processors)\n",
      "\n",
      "Solution count 2: 2 1 \n",
      "\n",
      "Optimal solution found (tolerance 1.00e-04)\n",
      "Best objective 2.000000000000e+00, best bound 2.000000000000e+00, gap 0.0000%\n"
     ]
    }
   ],
   "source": [
    "# Optimize\n",
    "model.optimize()"
   ]
  },
  {
   "cell_type": "code",
   "execution_count": 18,
   "metadata": {},
   "outputs": [],
   "source": [
    "# Status checking\n",
    "status = model.getAttr(GRB.Attr.Status)"
   ]
  },
  {
   "cell_type": "code",
   "execution_count": 19,
   "metadata": {},
   "outputs": [],
   "source": [
    "if status in (GRB. INF_OR_UNBD, GRB. INFEASIBLE, GRB. UNBOUNDED ):\n",
    "    print (\"The model cannot be solved because it is infeasible or unbounded \")\n",
    "    sys. exit (1)\n",
    "\n",
    "if status != GRB . OPTIMAL :\n",
    "    print (\"Optimization was stopped with status\", status)\n",
    "    sys. exit (1)"
   ]
  },
  {
   "cell_type": "code",
   "execution_count": 21,
   "metadata": {},
   "outputs": [
    {
     "name": "stdout",
     "output_type": "stream",
     "text": [
      " Logical expression is satisfiable \n"
     ]
    }
   ],
   "source": [
    "# Print result\n",
    "objval = model.getAttr(GRB.Attr.ObjVal)\n",
    "\n",
    "if objval > 1.9:\n",
    "    print (\" Logical expression is satisfiable \")\n",
    "elif objval > 0.9:\n",
    "    print (\"At least four clauses can be satisfied \")\n",
    "else :\n",
    "    print (\"Not even three clauses can be satisfied \")"
   ]
  }
 ],
 "metadata": {
  "kernelspec": {
   "display_name": "data",
   "language": "python",
   "name": "data"
  },
  "language_info": {
   "codemirror_mode": {
    "name": "ipython",
    "version": 3
   },
   "file_extension": ".py",
   "mimetype": "text/x-python",
   "name": "python",
   "nbconvert_exporter": "python",
   "pygments_lexer": "ipython3",
   "version": "3.7.5"
  }
 },
 "nbformat": 4,
 "nbformat_minor": 2
}
