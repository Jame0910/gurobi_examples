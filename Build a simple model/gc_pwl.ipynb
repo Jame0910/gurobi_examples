{
 "cells": [
  {
   "cell_type": "code",
   "execution_count": null,
   "metadata": {},
   "outputs": [],
   "source": [
    "#!/ usr/bin/env python3 .7\n",
    "# Copyright 2020 , Gurobi Optimization , LLC\n",
    "\n",
    "# This example formulates and solves the following simple model\n",
    "# with PWL constraints :\n",
    "#\n",
    "# maximize\n",
    "#     sum c[j] * x[j]\n",
    "# subject to\n",
    "#     sum A[i,j] * x[j] <= 0,     for i = 0, ... , m -1\n",
    "#     sum y[j] <= 3\n",
    "#     y[j] = pwl(x[j]),           for j = 0, ... , n -1\n",
    "#     x[j] free , y[j] >= 0,      for j = 0, ... , n -1\n",
    "# where pwl(x) = 0,      if x = 0\n",
    "#              = 1+|x|,  if x != 0\n",
    "\n",
    "# Note\n",
    "# 1. sum pwl(x[j]) <= b is to bound x vector and also to favor sparse x vector .\n",
    "#    Here b = 3 means that at most two x[j] can be nonzero and if two , then\n",
    "#    sum x[j] <= 1\n",
    "# 2. pwl(x) jumps from 1 to 0 and from 0 to 1, if x moves from negative 0 to 0,\n",
    "#    then to positive 0, so we need three points at x = 0. x has infinite bounds\n",
    "#    on both sides , the piece defined with two points (-1, 2) and (0, 1) can\n",
    "#    extend x to -infinite . Overall we can use five points (-1, 2), (0, 1),\n",
    "#    (0, 0), (0, 1) and (1, 2) to define y = pwl(x)"
   ]
  },
  {
   "cell_type": "markdown",
   "metadata": {},
   "source": [
    "A piecewise-linear (PWL) constraint states that the relationship `y = f(x)` must hold between variables `x` and `y`, where `f` is a piecewise-linear function."
   ]
  },
  {
   "cell_type": "code",
   "execution_count": 1,
   "metadata": {},
   "outputs": [],
   "source": [
    "import gurobipy as gp\n",
    "from gurobipy import GRB"
   ]
  },
  {
   "cell_type": "code",
   "execution_count": 2,
   "metadata": {},
   "outputs": [],
   "source": [
    "n = 5\n",
    "m = 5\n",
    "c = [0.5, 0.8, 0.5, 0.1, -1]\n",
    "A = [[0, 0, 0, 1, -1],\n",
    "     [0, 0, 0, 1, -1],\n",
    "     [1, 1, 0, 0, -1],\n",
    "     [1, 0, 1, 0, -1],\n",
    "     [1, 0, 0, 1, -1]\n",
    "    ]"
   ]
  },
  {
   "cell_type": "code",
   "execution_count": 3,
   "metadata": {
    "scrolled": false
   },
   "outputs": [
    {
     "name": "stdout",
     "output_type": "stream",
     "text": [
      "Using license file /Users/yj/gurobi.lic\n"
     ]
    }
   ],
   "source": [
    "# Create a new model\n",
    "model = gp.Model('gc_pwl')"
   ]
  },
  {
   "cell_type": "code",
   "execution_count": 4,
   "metadata": {},
   "outputs": [],
   "source": [
    "# Create variables\n",
    "x = model.addVars(n, lb=-GRB.INFINITY, name='x')\n",
    "y = model.addVars(n, name='y')"
   ]
  },
  {
   "cell_type": "code",
   "execution_count": 5,
   "metadata": {},
   "outputs": [],
   "source": [
    "# Set objective\n",
    "model.setObjective(gp.quicksum(c[j]*x[j] for j in range(n)), GRB.MAXIMIZE)"
   ]
  },
  {
   "cell_type": "code",
   "execution_count": 6,
   "metadata": {},
   "outputs": [],
   "source": [
    "# Add Constraints 1\n",
    "for i in range(m):\n",
    "    model.addConstr(gp.quicksum(A[i][j]*x[j] for j in range(n)) <= 0)"
   ]
  },
  {
   "cell_type": "code",
   "execution_count": 7,
   "metadata": {},
   "outputs": [
    {
     "data": {
      "text/plain": [
       "<gurobi.Constr *Awaiting Model Update*>"
      ]
     },
     "execution_count": 7,
     "metadata": {},
     "output_type": "execute_result"
    }
   ],
   "source": [
    "# Add Constraints 2\n",
    "model.addConstr(y.sum() <= 3)"
   ]
  },
  {
   "cell_type": "code",
   "execution_count": 8,
   "metadata": {},
   "outputs": [],
   "source": [
    "# Add Constraints 3\n",
    "for j in range(n):\n",
    "    model.addGenConstrPWL(x[j], y[j], [-1, 0, 0, 0, 1], [2, 1, 0, 1, 2])"
   ]
  },
  {
   "cell_type": "code",
   "execution_count": 10,
   "metadata": {},
   "outputs": [
    {
     "name": "stdout",
     "output_type": "stream",
     "text": [
      "Gurobi Optimizer version 9.0.0 build v9.0.0rc2 (mac64)\n",
      "Optimize a model with 6 rows, 10 columns and 18 nonzeros\n",
      "Model fingerprint: 0x8c73bd71\n",
      "Model has 5 general constraints\n",
      "Variable types: 10 continuous, 0 integer (0 binary)\n",
      "Coefficient statistics:\n",
      "  Matrix range     [1e+00, 1e+00]\n",
      "  Objective range  [1e-01, 1e+00]\n",
      "  Bounds range     [0e+00, 0e+00]\n",
      "  RHS range        [3e+00, 3e+00]\n",
      "Found heuristic solution: objective -0.0000000\n",
      "Presolve added 9 rows and 20 columns\n",
      "Presolve time: 0.02s\n",
      "Presolved: 15 rows, 30 columns, 64 nonzeros\n",
      "Presolved model has 10 SOS constraint(s)\n",
      "Variable types: 30 continuous, 0 integer (0 binary)\n",
      "\n",
      "Root relaxation: objective 8.000000e-01, 3 iterations, 0.02 seconds\n",
      "\n",
      "    Nodes    |    Current Node    |     Objective Bounds      |     Work\n",
      " Expl Unexpl |  Obj  Depth IntInf | Incumbent    BestBd   Gap | It/Node Time\n",
      "\n",
      "     0     0    0.80000    0    3   -0.00000    0.80000      -     -    0s\n",
      "     0     0    0.80000    0    3   -0.00000    0.80000      -     -    0s\n",
      "     0     2    0.80000    0    3   -0.00000    0.80000      -     -    0s\n",
      "H    4     6                       0.1500000    0.53333   256%   1.0    0s\n",
      "\n",
      "Explored 13 nodes (17 simplex iterations) in 0.23 seconds\n",
      "Thread count was 4 (of 4 available processors)\n",
      "\n",
      "Solution count 2: 0.15 -0 \n",
      "No other solutions better than 0.15\n",
      "\n",
      "Optimal solution found (tolerance 1.00e-04)\n",
      "Best objective 1.500000000000e-01, best bound 1.500000000000e-01, gap 0.0000%\n"
     ]
    }
   ],
   "source": [
    "# Optimize model\n",
    "model.optimize()"
   ]
  },
  {
   "cell_type": "code",
   "execution_count": 11,
   "metadata": {},
   "outputs": [
    {
     "name": "stdout",
     "output_type": "stream",
     "text": [
      "x[0] = -0.5\n",
      "x[1] = 0.5\n",
      "x[2] = 0\n",
      "x[3] = 0\n",
      "x[4] = 0\n",
      "Obj: 0.15\n"
     ]
    }
   ],
   "source": [
    "for j in range(n):\n",
    "    print('%s = %g' % (x[j].varName, x[j].x))\n",
    "\n",
    "print('Obj: %g' % model.objVal )"
   ]
  },
  {
   "cell_type": "code",
   "execution_count": null,
   "metadata": {},
   "outputs": [],
   "source": []
  }
 ],
 "metadata": {
  "kernelspec": {
   "display_name": "data",
   "language": "python",
   "name": "data"
  },
  "language_info": {
   "codemirror_mode": {
    "name": "ipython",
    "version": 3
   },
   "file_extension": ".py",
   "mimetype": "text/x-python",
   "name": "python",
   "nbconvert_exporter": "python",
   "pygments_lexer": "ipython3",
   "version": "3.7.5"
  }
 },
 "nbformat": 4,
 "nbformat_minor": 2
}
