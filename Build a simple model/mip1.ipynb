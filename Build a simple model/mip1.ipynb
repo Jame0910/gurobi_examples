{
 "cells": [
  {
   "cell_type": "code",
   "execution_count": 1,
   "metadata": {},
   "outputs": [
    {
     "name": "stdout",
     "output_type": "stream",
     "text": [
      "/Users/yj/opt/anaconda3/envs/data/bin/python\n",
      "3.7.5 (default, Oct 25 2019, 10:52:18) \n",
      "[Clang 4.0.1 (tags/RELEASE_401/final)]\n",
      "sys.version_info(major=3, minor=7, micro=5, releaselevel='final', serial=0)\n"
     ]
    }
   ],
   "source": [
    "import os, sys\n",
    "print(sys.executable) # works this time\n",
    "print(sys.version)\n",
    "print(sys.version_info)"
   ]
  },
  {
   "cell_type": "code",
   "execution_count": 3,
   "metadata": {},
   "outputs": [],
   "source": [
    "import gurobipy as gp\n",
    "from gurobipy import GRB"
   ]
  },
  {
   "cell_type": "code",
   "execution_count": 7,
   "metadata": {},
   "outputs": [
    {
     "name": "stdout",
     "output_type": "stream",
     "text": [
      "Gurobi Optimizer version 9.0.0 build v9.0.0rc2 (mac64)\n",
      "Optimize a model with 2 rows, 3 columns and 5 nonzeros\n",
      "Model fingerprint: 0x544880d1\n",
      "Variable types: 0 continuous, 3 integer (3 binary)\n",
      "Coefficient statistics:\n",
      "  Matrix range     [1e+00, 3e+00]\n",
      "  Objective range  [1e+00, 3e+00]\n",
      "  Bounds range     [1e+00, 1e+00]\n",
      "  RHS range        [1e+00, 4e+00]\n",
      "Found heuristic solution: objective 3.0000000\n",
      "Presolve removed 2 rows and 3 columns\n",
      "Presolve time: 0.00s\n",
      "Presolve: All rows and columns removed\n",
      "\n",
      "Explored 0 nodes (0 simplex iterations) in 0.06 seconds\n",
      "Thread count was 1 (of 4 available processors)\n",
      "\n",
      "Solution count 2: 4 \n",
      "\n",
      "Optimal solution found (tolerance 1.00e-04)\n",
      "Best objective 4.000000000000e+00, best bound 4.000000000000e+00, gap 0.0000%\n",
      "x=1\n",
      "y=0\n",
      "z=1\n",
      "Obj: 4\n"
     ]
    }
   ],
   "source": [
    "try:\n",
    "    \n",
    "    # Create a new model\n",
    "    m = gp.Model(\"mip1\")\n",
    "    \n",
    "    # Create variables\n",
    "    x = m.addVar(vtype=GRB.BINARY, name='x')\n",
    "    y = m.addVar(vtype=GRB.BINARY, name='y')\n",
    "    z = m.addVar(vtype=GRB.BINARY, name='z')\n",
    "    \n",
    "    # Set objective\n",
    "    m.setObjective(x + 2 * y + 3 * z, GRB.MAXIMIZE)\n",
    "    \n",
    "    # Add constraints\n",
    "    m.addConstr(x + 2 * y + 3 * z <= 4)\n",
    "    m.addConstr(x + y >= 1)\n",
    "    \n",
    "    # Optimize model\n",
    "    m.optimize()\n",
    "    \n",
    "    for v in m.getVars():\n",
    "        print('%s=%g' % (v.varName, v.x))\n",
    "    \n",
    "    print('Obj: %g' % m.objVal)\n",
    "\n",
    "except gp.GurobiError as e:\n",
    "    print('Error code' + str(e.errno) + ':' + str(e))\n",
    "    \n",
    "except AttributeError:\n",
    "    print('Encountered an attribute error.')"
   ]
  }
 ],
 "metadata": {
  "kernelspec": {
   "display_name": "data",
   "language": "python",
   "name": "data"
  },
  "language_info": {
   "codemirror_mode": {
    "name": "ipython",
    "version": 3
   },
   "file_extension": ".py",
   "mimetype": "text/x-python",
   "name": "python",
   "nbconvert_exporter": "python",
   "pygments_lexer": "ipython3",
   "version": "3.7.5"
  }
 },
 "nbformat": 4,
 "nbformat_minor": 2
}
