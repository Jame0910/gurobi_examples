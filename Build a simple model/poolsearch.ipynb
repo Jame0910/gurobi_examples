{
 "cells": [
  {
   "cell_type": "code",
   "execution_count": 1,
   "metadata": {},
   "outputs": [],
   "source": [
    "#!/ usr/bin/env python3 .7\n",
    "\n",
    "# Copyright 2020 , Gurobi Optimization , LLC\n",
    "\n",
    "# We find alternative epsilon - optimal solutions to a given knapsack\n",
    "# problem by using PoolSearchMode"
   ]
  },
  {
   "cell_type": "markdown",
   "metadata": {},
   "source": [
    "# 知识点\n",
    "\n",
    "`PoolSearchMode`\n",
    "> Selects different modes for exploring the MIP search tree. With the default setting `(PoolSearchMode=0)`,\n",
    "the MIP solver tries to find an optimal solution to the model. It keeps other solutions found along\n",
    "the way, but those are incidental.   \n",
    "\n",
    "> By setting this parameter to a non-default value, the MIP search will continue after the optimal solution has been found in order to find additional, high-quality solutions.   \n",
    "\n",
    "> With a setting of 2, it will find the n best solutions, where n is determined by the value\n",
    "of the `PoolSolutions` parameter.   \n",
    "\n",
    "> With a setting of 1, it will try to find additional solutions, but with no guarantees about the quality of those solutions. The cost of the solve will increase with increasing values of this parameter.  \n",
    "\n",
    "`PoolSolutions`\n",
    "> Number of MIP solutions to store"
   ]
  },
  {
   "cell_type": "code",
   "execution_count": 2,
   "metadata": {},
   "outputs": [],
   "source": [
    "from __future__ import print_function\n",
    "import gurobipy as gp\n",
    "from gurobipy import GRB\n",
    "import sys"
   ]
  },
  {
   "cell_type": "code",
   "execution_count": 3,
   "metadata": {},
   "outputs": [],
   "source": [
    "# Sample data\n",
    "Groundset = range (10)\n",
    "objCoef = [32 , 32, 15, 15, 6, 6, 1, 1, 1, 1]\n",
    "knapsackCoef = [16 , 16, 8, 8, 4, 4, 2, 2, 1, 1]\n",
    "Budget = 33"
   ]
  },
  {
   "cell_type": "code",
   "execution_count": 4,
   "metadata": {},
   "outputs": [
    {
     "name": "stdout",
     "output_type": "stream",
     "text": [
      "Using license file /Users/yj/gurobi.lic\n"
     ]
    }
   ],
   "source": [
    "# Create initial model\n",
    "model = gp. Model (\" poolsearch \")"
   ]
  },
  {
   "cell_type": "code",
   "execution_count": 7,
   "metadata": {},
   "outputs": [
    {
     "name": "stdout",
     "output_type": "stream",
     "text": [
      "{0: 32, 1: 32, 2: 15, 3: 15, 4: 6, 5: 6, 6: 1, 7: 1, 8: 1, 9: 1}\n",
      "{0: 16, 1: 16, 2: 8, 3: 8, 4: 4, 5: 4, 6: 2, 7: 2, 8: 1, 9: 1}\n"
     ]
    }
   ],
   "source": [
    "# Create dicts for tupledict . prod () function\n",
    "objCoefDict = dict (zip ( Groundset , objCoef ))\n",
    "knapsackCoefDict = dict (zip( Groundset , knapsackCoef ))\n",
    "print(objCoefDict)\n",
    "print(knapsackCoefDict)"
   ]
  },
  {
   "cell_type": "code",
   "execution_count": 9,
   "metadata": {},
   "outputs": [
    {
     "data": {
      "text/plain": [
       "{0: <gurobi.Var *Awaiting Model Update*>,\n",
       " 1: <gurobi.Var *Awaiting Model Update*>,\n",
       " 2: <gurobi.Var *Awaiting Model Update*>,\n",
       " 3: <gurobi.Var *Awaiting Model Update*>,\n",
       " 4: <gurobi.Var *Awaiting Model Update*>,\n",
       " 5: <gurobi.Var *Awaiting Model Update*>,\n",
       " 6: <gurobi.Var *Awaiting Model Update*>,\n",
       " 7: <gurobi.Var *Awaiting Model Update*>,\n",
       " 8: <gurobi.Var *Awaiting Model Update*>,\n",
       " 9: <gurobi.Var *Awaiting Model Update*>}"
      ]
     },
     "execution_count": 9,
     "metadata": {},
     "output_type": "execute_result"
    }
   ],
   "source": [
    "# Initialize decision variables for ground set:\n",
    "# x[e] == 1 if element e is chosen\n",
    "Elem = model.addVars (Groundset, vtype=GRB.BINARY, name='El')\n",
    "Elem"
   ]
  },
  {
   "cell_type": "code",
   "execution_count": 10,
   "metadata": {},
   "outputs": [],
   "source": [
    "# Set objective function\n",
    "model.ModelSense = GRB.MAXIMIZE\n",
    "model.setObjective(Elem.prod(objCoefDict))"
   ]
  },
  {
   "cell_type": "code",
   "execution_count": 11,
   "metadata": {},
   "outputs": [
    {
     "data": {
      "text/plain": [
       "<gurobi.Constr *Awaiting Model Update*>"
      ]
     },
     "execution_count": 11,
     "metadata": {},
     "output_type": "execute_result"
    }
   ],
   "source": [
    "# Constraint : limit total number of elements to be picked to be at most\n",
    "# Budget\n",
    "model.addConstr(Elem.prod(knapsackCoefDict) <= Budget, name='Budget')"
   ]
  },
  {
   "cell_type": "markdown",
   "metadata": {},
   "source": [
    "## Core part here"
   ]
  },
  {
   "cell_type": "code",
   "execution_count": 12,
   "metadata": {},
   "outputs": [
    {
     "name": "stdout",
     "output_type": "stream",
     "text": [
      "Changed value of parameter PoolSolutions to 1024\n",
      "   Prev: 10  Min: 1  Max: 2000000000  Default: 10\n",
      "Changed value of parameter PoolGap to 0.1\n",
      "   Prev: inf  Min: 0.0  Max: inf  Default: inf\n",
      "Changed value of parameter PoolSearchMode to 2\n",
      "   Prev: 0  Min: 0  Max: 2  Default: 0\n"
     ]
    }
   ],
   "source": [
    "# Limit how many solutions to collect\n",
    "model.setParam(GRB.Param.PoolSolutions, 1024)\n",
    "# Limit the search space by setting a gap for the worst possible solution\n",
    "# that will be accepted\n",
    "model.setParam(GRB.Param.PoolGap, 0.1)\n",
    "# do a systematic search for the k- best solutions\n",
    "model.setParam(GRB.Param.PoolSearchMode, 2)"
   ]
  },
  {
   "cell_type": "code",
   "execution_count": 14,
   "metadata": {},
   "outputs": [],
   "source": [
    "# save problem\n",
    "model.write ('poolsearch.rlp')"
   ]
  },
  {
   "cell_type": "code",
   "execution_count": 15,
   "metadata": {},
   "outputs": [
    {
     "name": "stdout",
     "output_type": "stream",
     "text": [
      "Gurobi Optimizer version 9.0.0 build v9.0.0rc2 (mac64)\n",
      "Optimize a model with 1 rows, 20 columns and 10 nonzeros\n",
      "Model fingerprint: 0x0f50c946\n",
      "Variable types: 0 continuous, 20 integer (20 binary)\n",
      "Coefficient statistics:\n",
      "  Matrix range     [1e+00, 2e+01]\n",
      "  Objective range  [1e+00, 3e+01]\n",
      "  Bounds range     [1e+00, 1e+00]\n",
      "  RHS range        [3e+01, 3e+01]\n",
      "Found heuristic solution: objective 65.0000000\n",
      "Presolve time: 0.05s\n",
      "Presolved: 1 rows, 20 columns, 10 nonzeros\n",
      "Variable types: 0 continuous, 20 integer (20 binary)\n",
      "\n",
      "Root relaxation: objective 6.587500e+01, 1 iterations, 0.01 seconds\n",
      "\n",
      "    Nodes    |    Current Node    |     Objective Bounds      |     Work\n",
      " Expl Unexpl |  Obj  Depth IntInf | Incumbent    BestBd   Gap | It/Node Time\n",
      "\n",
      "     0     0   65.87500    0    1   65.00000   65.87500  1.35%     -    0s\n",
      "\n",
      "Optimal solution found at node 0 - now completing solution pool...\n",
      "\n",
      "    Nodes    |    Current Node    |      Pool Obj. Bounds     |     Work\n",
      "             |                    |   Worst                   |\n",
      " Expl Unexpl |  Obj  Depth IntInf | Incumbent    BestBd   Gap | It/Node Time\n",
      "\n",
      "     0     0   65.87500    0    1          -   65.87500      -     -    0s\n",
      "     0     0          -    0               -   65.00000      -     -    0s\n",
      "     0     0          -    0               -   65.00000      -     -    0s\n",
      "     0     0          -    0               -   65.00000      -     -    0s\n",
      "     0     2          -    0               -   65.00000      -     -    0s\n",
      "\n",
      "Explored 3863 nodes (1586 simplex iterations) in 0.47 seconds\n",
      "Thread count was 4 (of 4 available processors)\n",
      "\n",
      "Solution count 1024: 65 65 65 ... 65\n",
      "\n",
      "Optimal solution found (tolerance 1.00e-04)\n",
      "Best objective 6.500000000000e+01, best bound 6.500000000000e+01, gap 0.0000%\n"
     ]
    }
   ],
   "source": [
    "model.optimize()"
   ]
  },
  {
   "cell_type": "code",
   "execution_count": 16,
   "metadata": {},
   "outputs": [],
   "source": [
    "model.setParam(GRB.Param.OutputFlag, 0)"
   ]
  },
  {
   "cell_type": "code",
   "execution_count": 27,
   "metadata": {},
   "outputs": [
    {
     "name": "stdout",
     "output_type": "stream",
     "text": [
      "Select elements in best solution:\n",
      "\tE10 E11 E18 \n",
      "number of solution stored:1024\n",
      "65 65 65 65 65 65 65 65 65 65 65 65 65 65 65 65 65 65 65 65 "
     ]
    }
   ],
   "source": [
    "# Status checking\n",
    "status = model.Status\n",
    "\n",
    "if status in (GRB.INF_OR_UNBD, GRB.INFEASIBLE, GRB.UNBOUNDED):\n",
    "    print('The model cannot be solved because it is infeasible or unbounded')\n",
    "    sys.exit(1)\n",
    "    \n",
    "if status != GRB.OPTIMAL:\n",
    "    print('Optimization was stopped with status ' + str(status))\n",
    "    sys.exit(1)\n",
    "\n",
    "# Print best selected set\n",
    "print('Select elements in best solution:')\n",
    "print('\\t', end='')\n",
    "for e in Groundset:\n",
    "    if Elem[e].X > .9:\n",
    "        print('E1%d' % e, end=' ')\n",
    "print('')\n",
    "\n",
    "# Print number of solution stored\n",
    "nSolution = model.SolCount\n",
    "print('number of solution stored:' + str(nSolution))\n",
    "\n",
    "# Print objective values of solutions\n",
    "for e in range (20):\n",
    "    model.setParam(GRB.Param.SolutionNumber, e)\n",
    "    print ('%g' % model.PoolObjVal, end=' ')"
   ]
  }
 ],
 "metadata": {
  "kernelspec": {
   "display_name": "data",
   "language": "python",
   "name": "data"
  },
  "language_info": {
   "codemirror_mode": {
    "name": "ipython",
    "version": 3
   },
   "file_extension": ".py",
   "mimetype": "text/x-python",
   "name": "python",
   "nbconvert_exporter": "python",
   "pygments_lexer": "ipython3",
   "version": "3.7.5"
  }
 },
 "nbformat": 4,
 "nbformat_minor": 2
}
