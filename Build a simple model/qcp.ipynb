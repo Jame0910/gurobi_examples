{
 "cells": [
  {
   "cell_type": "code",
   "execution_count": 1,
   "metadata": {},
   "outputs": [],
   "source": [
    "#!/ usr/bin/env python3 .7\n",
    "# Copyright 2020 , Gurobi Optimization , LLC\n",
    "# This example formulates and solves the following simple QCP model :\n",
    "# maximize   x\n",
    "# subject to x + y + z = 1\n",
    "#            x^2 + y^2 <= z^2 (second - order cone )\n",
    "#            x^2 <= yz ( rotated second - order cone )\n",
    "#            x, y, z non - negative\n",
    "\n",
    "import gurobipy as gp\n",
    "from gurobipy import GRB"
   ]
  },
  {
   "cell_type": "code",
   "execution_count": 2,
   "metadata": {},
   "outputs": [
    {
     "name": "stdout",
     "output_type": "stream",
     "text": [
      "Using license file /Users/yj/gurobi.lic\n"
     ]
    }
   ],
   "source": [
    "# Create a new model\n",
    "m = gp. Model (\"qcp\")"
   ]
  },
  {
   "cell_type": "code",
   "execution_count": 3,
   "metadata": {},
   "outputs": [],
   "source": [
    "# Create variables\n",
    "x = m. addVar ( name =\"x\")\n",
    "y = m. addVar ( name =\"y\")\n",
    "z = m. addVar ( name =\"z\")"
   ]
  },
  {
   "cell_type": "code",
   "execution_count": 4,
   "metadata": {},
   "outputs": [],
   "source": [
    "# Set objective : x\n",
    "obj = 1.0 * x # 这样obj就不是一个变量了\n",
    "m. setObjective(obj, GRB.MAXIMIZE)"
   ]
  },
  {
   "cell_type": "code",
   "execution_count": 5,
   "metadata": {},
   "outputs": [
    {
     "data": {
      "text/plain": [
       "<gurobi.QConstr Not Yet Added>"
      ]
     },
     "execution_count": 5,
     "metadata": {},
     "output_type": "execute_result"
    }
   ],
   "source": [
    "# Add constraint : x + y + z = 1\n",
    "m. addConstr(x + y + z == 1, \"c0\")\n",
    "\n",
    "# Add second - order cone : x^2 + y^2 <= z^2\n",
    "m. addConstr(x * x + y * y <= z * z, \"qc0\")\n",
    "\n",
    "# Add rotated cone : x^2 <= yz\n",
    "m. addConstr(x * x <= y * z, \"qc1\")"
   ]
  },
  {
   "cell_type": "code",
   "execution_count": 6,
   "metadata": {
    "scrolled": false
   },
   "outputs": [
    {
     "name": "stdout",
     "output_type": "stream",
     "text": [
      "Gurobi Optimizer version 9.0.0 build v9.0.0rc2 (mac64)\n",
      "Optimize a model with 1 rows, 3 columns and 3 nonzeros\n",
      "Model fingerprint: 0x6ea77c1e\n",
      "Model has 2 quadratic constraints\n",
      "Coefficient statistics:\n",
      "  Matrix range     [1e+00, 1e+00]\n",
      "  QMatrix range    [1e+00, 1e+00]\n",
      "  Objective range  [1e+00, 1e+00]\n",
      "  Bounds range     [0e+00, 0e+00]\n",
      "  RHS range        [1e+00, 1e+00]\n",
      "Presolve time: 0.03s\n",
      "Presolved: 6 rows, 6 columns, 13 nonzeros\n",
      "Presolved model has 2 second-order cone constraints\n",
      "Ordering time: 0.00s\n",
      "\n",
      "Barrier statistics:\n",
      " AA' NZ     : 1.500e+01\n",
      " Factor NZ  : 2.100e+01\n",
      " Factor Ops : 9.100e+01 (less than 1 second per iteration)\n",
      " Threads    : 1\n",
      "\n",
      "                  Objective                Residual\n",
      "Iter       Primal          Dual         Primal    Dual     Compl     Time\n",
      "   0   2.38095238e-01  2.38095238e-01  8.33e-17 4.33e-01  9.23e-02     0s\n",
      "   1   3.20481543e-01  3.62123302e-01  2.78e-17 1.39e-02  7.95e-03     0s\n",
      "   2   3.26649101e-01  3.28651430e-01  2.02e-14 5.44e-04  3.46e-04     0s\n",
      "   3   3.26797051e-01  3.27019441e-01  2.56e-13 5.98e-10  2.78e-05     0s\n",
      "   4   3.26990986e-01  3.26994814e-01  4.81e-13 3.46e-13  4.78e-07     0s\n",
      "   5   3.26992304e-01  3.26992876e-01  9.02e-11 3.31e-14  7.15e-08     0s\n",
      "\n",
      "Barrier solved model in 5 iterations and 0.08 seconds\n",
      "Optimal objective 3.26992304e-01\n",
      "\n"
     ]
    }
   ],
   "source": [
    "m. optimize ()"
   ]
  },
  {
   "cell_type": "code",
   "execution_count": 7,
   "metadata": {},
   "outputs": [
    {
     "name": "stdout",
     "output_type": "stream",
     "text": [
      "x 0.326992\n",
      "y 0.257066\n",
      "z 0.415941\n",
      "Obj: 0.326992\n"
     ]
    }
   ],
   "source": [
    "for v in m.getVars():\n",
    "    print('%s %g' % (v.varName, v.x))\n",
    "\n",
    "print ('Obj: %g' % obj.getValue())"
   ]
  }
 ],
 "metadata": {
  "kernelspec": {
   "display_name": "data",
   "language": "python",
   "name": "data"
  },
  "language_info": {
   "codemirror_mode": {
    "name": "ipython",
    "version": 3
   },
   "file_extension": ".py",
   "mimetype": "text/x-python",
   "name": "python",
   "nbconvert_exporter": "python",
   "pygments_lexer": "ipython3",
   "version": "3.7.5"
  }
 },
 "nbformat": 4,
 "nbformat_minor": 2
}
