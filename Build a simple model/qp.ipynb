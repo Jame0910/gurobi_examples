{
 "cells": [
  {
   "cell_type": "code",
   "execution_count": 1,
   "metadata": {},
   "outputs": [],
   "source": [
    "#!/ usr/bin/env python3 .7\n",
    "# Copyright 2020 , Gurobi Optimization , LLC\n",
    "# This example formulates and solves the following simple QP model :\n",
    "# minimize\n",
    "#     x^2 + x*y + y^2 + y*z + z^2 + 2 x\n",
    "# subject to\n",
    "#     x + 2 y + 3 z >= 4\n",
    "#     x +   y       >= 1\n",
    "#     x, y, z non - negative\n",
    "#\n",
    "# It solves it once as a continuous model , and once as an integer model ."
   ]
  },
  {
   "cell_type": "code",
   "execution_count": 2,
   "metadata": {},
   "outputs": [],
   "source": [
    "import gurobipy as gp\n",
    "from gurobipy import GRB"
   ]
  },
  {
   "cell_type": "code",
   "execution_count": 3,
   "metadata": {},
   "outputs": [
    {
     "name": "stdout",
     "output_type": "stream",
     "text": [
      "Using license file /Users/yj/gurobi.lic\n"
     ]
    }
   ],
   "source": [
    "# Create a new model\n",
    "m = gp. Model (\"qp\")"
   ]
  },
  {
   "cell_type": "code",
   "execution_count": 4,
   "metadata": {},
   "outputs": [],
   "source": [
    "# Create variables\n",
    "x = m. addVar (ub = 1.0 , name =\"x\")\n",
    "y = m. addVar (ub = 1.0 , name =\"y\")\n",
    "z = m. addVar (ub = 1.0 , name =\"z\")"
   ]
  },
  {
   "cell_type": "code",
   "execution_count": 6,
   "metadata": {},
   "outputs": [],
   "source": [
    "# Set objective : x^2 + x*y + y^2 + y*z + z^2 + 2 x\n",
    "obj = x*x + x*y + y*y + y*z + z*z + 2 * x\n",
    "m.setObjective(obj, GRB.MINIMIZE)"
   ]
  },
  {
   "cell_type": "code",
   "execution_count": 7,
   "metadata": {},
   "outputs": [
    {
     "data": {
      "text/plain": [
       "<gurobi.Constr *Awaiting Model Update*>"
      ]
     },
     "execution_count": 7,
     "metadata": {},
     "output_type": "execute_result"
    }
   ],
   "source": [
    "# Add constraint : x + 2 y + 3 z >= 4\n",
    "m. addConstr (x + 2 * y + 3 * z >= 4, \"c0\")\n",
    "\n",
    "# Add constraint : x + y >= 1\n",
    "m. addConstr (x + y >= 1, \"c1\")"
   ]
  },
  {
   "cell_type": "code",
   "execution_count": 8,
   "metadata": {
    "scrolled": false
   },
   "outputs": [
    {
     "name": "stdout",
     "output_type": "stream",
     "text": [
      "Gurobi Optimizer version 9.0.0 build v9.0.0rc2 (mac64)\n",
      "Optimize a model with 2 rows, 3 columns and 5 nonzeros\n",
      "Model fingerprint: 0xdb97ef5b\n",
      "Model has 5 quadratic objective terms\n",
      "Coefficient statistics:\n",
      "  Matrix range     [1e+00, 3e+00]\n",
      "  Objective range  [2e+00, 2e+00]\n",
      "  QObjective range [2e+00, 2e+00]\n",
      "  Bounds range     [1e+00, 1e+00]\n",
      "  RHS range        [1e+00, 4e+00]\n",
      "Presolve time: 0.10s\n",
      "Presolved: 2 rows, 3 columns, 5 nonzeros\n",
      "Presolved model has 5 quadratic objective terms\n",
      "Ordering time: 0.00s\n",
      "\n",
      "Barrier statistics:\n",
      " Free vars  : 2\n",
      " AA' NZ     : 6.000e+00\n",
      " Factor NZ  : 1.000e+01\n",
      " Factor Ops : 3.000e+01 (less than 1 second per iteration)\n",
      " Threads    : 1\n",
      "\n",
      "                  Objective                Residual\n",
      "Iter       Primal          Dual         Primal    Dual     Compl     Time\n",
      "   0   1.69015022e+05 -1.71012100e+05  1.50e+03 3.33e+02  1.00e+06     0s\n",
      "   1   3.60255402e+04 -3.91306233e+04  2.28e+02 3.82e+01  1.20e+05     0s\n",
      "   2   4.14685168e+00 -4.40925173e+03  1.80e+00 4.00e-01  1.83e+03     0s\n",
      "   3   2.81937163e+00 -1.92736174e+03  1.80e-06 4.00e-07  2.41e+02     0s\n",
      "   4   2.81628339e+00 -1.81287557e-01  8.60e-10 1.90e-10  3.75e-01     0s\n",
      "   5   2.26977145e+00  2.06670895e+00  6.89e-12 1.53e-12  2.54e-02     0s\n",
      "   6   2.11498124e+00  2.11029644e+00  2.22e-16 5.55e-16  5.86e-04     0s\n",
      "   7   2.11111498e+00  2.11111030e+00  2.22e-16 2.22e-16  5.85e-07     0s\n",
      "   8   2.11111111e+00  2.11111111e+00  2.22e-16 0.00e+00  5.86e-10     0s\n",
      "\n",
      "Barrier solved model in 8 iterations and 0.18 seconds\n",
      "Optimal objective 2.11111111e+00\n",
      "\n"
     ]
    }
   ],
   "source": [
    "m.optimize()"
   ]
  },
  {
   "cell_type": "code",
   "execution_count": 13,
   "metadata": {},
   "outputs": [
    {
     "name": "stdout",
     "output_type": "stream",
     "text": [
      "x 3.255e-09\n",
      "y 1\n",
      "z 0.666667\n",
      "Obj: 2.11111\n"
     ]
    }
   ],
   "source": [
    "for v in m.getVars():\n",
    "    print('%s %g' % (v.varName, v.x))\n",
    "\n",
    "print ('Obj: %g' % obj.getValue())"
   ]
  },
  {
   "cell_type": "markdown",
   "metadata": {},
   "source": [
    "换乘整数规划"
   ]
  },
  {
   "cell_type": "code",
   "execution_count": 14,
   "metadata": {},
   "outputs": [],
   "source": [
    "x.vType = GRB.INTEGER\n",
    "y.vType = GRB.INTEGER\n",
    "z.vType = GRB.INTEGER"
   ]
  },
  {
   "cell_type": "code",
   "execution_count": 16,
   "metadata": {
    "scrolled": false
   },
   "outputs": [
    {
     "name": "stdout",
     "output_type": "stream",
     "text": [
      "Gurobi Optimizer version 9.0.0 build v9.0.0rc2 (mac64)\n",
      "Optimize a model with 2 rows, 3 columns and 5 nonzeros\n",
      "Model fingerprint: 0x19000d23\n",
      "Model has 5 quadratic objective terms\n",
      "Variable types: 0 continuous, 3 integer (0 binary)\n",
      "Coefficient statistics:\n",
      "  Matrix range     [1e+00, 3e+00]\n",
      "  Objective range  [2e+00, 2e+00]\n",
      "  QObjective range [2e+00, 2e+00]\n",
      "  Bounds range     [1e+00, 1e+00]\n",
      "  RHS range        [1e+00, 4e+00]\n",
      "Found heuristic solution: objective 7.0000000\n",
      "Presolve removed 1 rows and 1 columns\n",
      "Presolve time: 0.00s\n",
      "Presolved: 2 rows, 3 columns, 5 nonzeros\n",
      "Variable types: 0 continuous, 3 integer (3 binary)\n",
      "\n",
      "Root relaxation: objective 3.000000e+00, 1 iterations, 0.00 seconds\n",
      "\n",
      "    Nodes    |    Current Node    |     Objective Bounds      |     Work\n",
      " Expl Unexpl |  Obj  Depth IntInf | Incumbent    BestBd   Gap | It/Node Time\n",
      "\n",
      "*    0     0               0       3.0000000    3.00000  0.00%     -    0s\n",
      "\n",
      "Explored 0 nodes (1 simplex iterations) in 0.06 seconds\n",
      "Thread count was 4 (of 4 available processors)\n",
      "\n",
      "Solution count 2: 3 7 \n",
      "\n",
      "Optimal solution found (tolerance 1.00e-04)\n",
      "Best objective 3.000000000000e+00, best bound 3.000000000000e+00, gap 0.0000%\n"
     ]
    }
   ],
   "source": [
    "m.optimize()"
   ]
  },
  {
   "cell_type": "code",
   "execution_count": 18,
   "metadata": {},
   "outputs": [
    {
     "name": "stdout",
     "output_type": "stream",
     "text": [
      "x 0\n",
      "y 1\n",
      "z 1\n",
      "Obj: 3\n"
     ]
    }
   ],
   "source": [
    "for v in m.getVars():\n",
    "    print('%s %g' % (v.varName, v.x))\n",
    "print ('Obj: %g' % obj.getValue())"
   ]
  }
 ],
 "metadata": {
  "kernelspec": {
   "display_name": "data",
   "language": "python",
   "name": "data"
  },
  "language_info": {
   "codemirror_mode": {
    "name": "ipython",
    "version": 3
   },
   "file_extension": ".py",
   "mimetype": "text/x-python",
   "name": "python",
   "nbconvert_exporter": "python",
   "pygments_lexer": "ipython3",
   "version": "3.7.5"
  }
 },
 "nbformat": 4,
 "nbformat_minor": 2
}
