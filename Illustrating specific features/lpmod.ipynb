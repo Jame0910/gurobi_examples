{
 "cells": [
  {
   "cell_type": "markdown",
   "metadata": {},
   "source": [
    "# lpmod\n",
    "\n",
    "Demonstrates the use of advanced starts in LP.   \n",
    "Reads a continuous model from a file, solves it, and then modifies one variable bound.   \n",
    "The resulting model is then solved in two different ways: starting from the solution of the original model, or restarting from scratch."
   ]
  },
  {
   "cell_type": "code",
   "execution_count": 1,
   "metadata": {},
   "outputs": [],
   "source": [
    "#!/usr/bin/env python3.7\n",
    "\n",
    "# Copyright 2020, Gurobi Optimization, LLC\n",
    "\n",
    "# This example reads an LP model from a file and solves it.\n",
    "# If the model can be solved, then it finds the smallest positive variable,\n",
    "# sets its upper bound to zero, and resolves the model two ways:\n",
    "# first with an advanced start, then without an advanced start\n",
    "# (i.e. 'from scratch').\n",
    "\n",
    "import sys\n",
    "import gurobipy as gp\n",
    "from gurobipy import GRB"
   ]
  },
  {
   "cell_type": "code",
   "execution_count": 2,
   "metadata": {},
   "outputs": [],
   "source": [
    "if len(sys.argv) < 2:\n",
    "    print('Usage: lpmod.py filename')\n",
    "    quit()"
   ]
  },
  {
   "cell_type": "code",
   "execution_count": 9,
   "metadata": {},
   "outputs": [
    {
     "data": {
      "text/plain": [
       "'/Users/yj/Library/Jupyter/runtime/kernel-850e576c-e816-4b9d-a614-5dd03b27bf8b.json'"
      ]
     },
     "execution_count": 9,
     "metadata": {},
     "output_type": "execute_result"
    }
   ],
   "source": [
    "sys.argv[2]"
   ]
  },
  {
   "cell_type": "code",
   "execution_count": 13,
   "metadata": {},
   "outputs": [],
   "source": [
    "# Read model and determine whether it is an LP\n",
    "\n",
    "model = gp.read(sys.argv[2])\n",
    "if model.isMIP == 1:\n",
    "    print('The model is not a linear program')\n",
    "    sys.exit(1)\n",
    "\n",
    "status = model.status"
   ]
  },
  {
   "cell_type": "code",
   "execution_count": null,
   "metadata": {},
   "outputs": [],
   "source": [
    "if status == GRB.INF_OR_UNBD or status == GRB.INFEASIBLE \\\n",
    "   or status == GRB.UNBOUNDED:\n",
    "    print('The model cannot be solved because it is infeasible or unbounded')\n",
    "    sys.exit(1)\n",
    "\n",
    "if status != GRB.OPTIMAL:\n",
    "    print('Optimization was stopped with status %d' % status)\n",
    "    sys.exit(0)"
   ]
  },
  {
   "cell_type": "code",
   "execution_count": null,
   "metadata": {},
   "outputs": [],
   "source": [
    "# Find the smallest variable value\n",
    "\n",
    "minVal = GRB.INFINITY\n",
    "for v in model.getVars():\n",
    "    if v.x > 0.0001 and v.x < minVal and v.lb == 0.0:\n",
    "        minVal = v.x\n",
    "        minVar = v\n",
    "\n",
    "print('\\n*** Setting %s from %g to zero ***\\n' % (minVar.varName, minVal))\n",
    "minVar.ub = 0.0"
   ]
  },
  {
   "cell_type": "code",
   "execution_count": null,
   "metadata": {},
   "outputs": [],
   "source": [
    "# Solve from this starting point\n",
    "model.optimize()\n",
    "\n",
    "# Save iteration & time info\n",
    "warmCount = model.IterCount\n",
    "warmTime = model.Runtime"
   ]
  },
  {
   "cell_type": "code",
   "execution_count": null,
   "metadata": {},
   "outputs": [],
   "source": [
    "# Reset the model and resolve\n",
    "print('\\n*** Resetting and solving without an advanced start ***\\n')\n",
    "model.reset()\n",
    "model.optimize()\n",
    "\n",
    "clodCount = model.IterCount\n",
    "coldTime = model.Runtime"
   ]
  },
  {
   "cell_type": "code",
   "execution_count": null,
   "metadata": {},
   "outputs": [],
   "source": [
    "print('')\n",
    "print('*** Warm start %g iteration, %g seconds' % (warmCount, warmTime))\n",
    "print('*** Cold start %g iteration, %g seconds' % (clodCount, coldTime))"
   ]
  }
 ],
 "metadata": {
  "kernelspec": {
   "display_name": "data",
   "language": "python",
   "name": "data"
  },
  "language_info": {
   "codemirror_mode": {
    "name": "ipython",
    "version": 3
   },
   "file_extension": ".py",
   "mimetype": "text/x-python",
   "name": "python",
   "nbconvert_exporter": "python",
   "pygments_lexer": "ipython3",
   "version": "3.7.5"
  }
 },
 "nbformat": 4,
 "nbformat_minor": 2
}
